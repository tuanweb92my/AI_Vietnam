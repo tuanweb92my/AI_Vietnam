{
 "cells": [
  {
   "cell_type": "code",
   "execution_count": 21,
   "metadata": {},
   "outputs": [
    {
     "name": "stdout",
     "output_type": "stream",
     "text": [
      "Here are the input datasets: \n",
      "t10k-images-idx3-ubyte.gz\n",
      "t10k-labels-idx1-ubyte.gz\n",
      "train-images-idx3-ubyte.gz\n",
      "train-labels-idx1-ubyte.gz\n",
      "\n",
      "Python Version: \n",
      "Python 3.7.3\r\n"
     ]
    }
   ],
   "source": [
    "import os # processing file path\n",
    "import gzip # unzip the .gz file, not used here\n",
    "import numpy as np # linear algebra\n",
    "import pandas as pd # data processing, CSV file I/O (e.g. pd.read_csv)\n",
    "import matplotlib.pyplot as plt # data visualization\n",
    "\n",
    "# Input data files are available in the \"../input/\" directory.\n",
    "# For example, running this (by clicking run or pressing Shift+Enter) will list the files in the input directory\n",
    "\n",
    "from subprocess import check_output\n",
    "print(\"Here are the input datasets: \")\n",
    "print(check_output([\"ls\", \"../fashion-mnist-master/data/fashion\"]).decode(\"utf8\"))\n",
    "\n",
    "print(\"Python Version: \")\n",
    "!python -V\n",
    "# Any results you write to the current directory are saved as output.\n"
   ]
  },
  {
   "cell_type": "code",
   "execution_count": 22,
   "metadata": {},
   "outputs": [],
   "source": [
    "def load_mnist(path, kind='train'):\n",
    "    import os\n",
    "    import gzip\n",
    "    import numpy as np\n",
    "\n",
    "    \"\"\"Load MNIST data from `path`\"\"\"\n",
    "    labels_path = os.path.join(path,\n",
    "                               '%s-labels-idx1-ubyte.gz'\n",
    "                               % kind)\n",
    "    images_path = os.path.join(path,\n",
    "                               '%s-images-idx3-ubyte.gz'\n",
    "                               % kind)\n",
    "\n",
    "    with gzip.open(labels_path, 'rb') as lbpath:\n",
    "        labels = np.frombuffer(lbpath.read(), dtype=np.uint8,\n",
    "                               offset=8)\n",
    "\n",
    "    with gzip.open(images_path, 'rb') as imgpath:\n",
    "        images = np.frombuffer(imgpath.read(), dtype=np.uint8,\n",
    "                               offset=16).reshape(len(labels), 784)\n",
    "\n",
    "    return images, labels\n",
    "\n"
   ]
  },
  {
   "cell_type": "code",
   "execution_count": 23,
   "metadata": {},
   "outputs": [
    {
     "name": "stdout",
     "output_type": "stream",
     "text": [
      "Clear previously loaded data.\n"
     ]
    }
   ],
   "source": [
    "# Cleaning up variables to prevent loading data multiple times (which may cause memory issue)\n",
    "try:\n",
    "    del X_train, y_train\n",
    "    del X_test, y_test\n",
    "    print('Clear previously loaded data.')\n",
    "except:\n",
    "    pass"
   ]
  },
  {
   "cell_type": "code",
   "execution_count": 25,
   "metadata": {},
   "outputs": [],
   "source": [
    "# Load the data\n",
    "X_train, y_train = load_mnist('data/fashion', kind='train')\n",
    "X_test, y_test = load_mnist('data/fashion', kind='t10k')\n",
    "m_train = X_train.shape[0]\n",
    "m_test = X_test.shape[0]"
   ]
  },
  {
   "cell_type": "code",
   "execution_count": 26,
   "metadata": {},
   "outputs": [
    {
     "name": "stdout",
     "output_type": "stream",
     "text": [
      "X_train shape: (60000, 784)\n",
      "y_train shape: (60000,)\n",
      "X_test shape: (10000, 784)\n",
      "y_test shape: (10000,)\n",
      "Number of training examples: m_train = 60000\n",
      "Number of testing examples: m_test = 10000\n"
     ]
    }
   ],
   "source": [
    "print(\"X_train shape: \" + str(X_train.shape))\n",
    "print(\"y_train shape: \" + str(y_train.shape))\n",
    "print(\"X_test shape: \" + str(X_test.shape))\n",
    "print(\"y_test shape: \" + str(y_test.shape))\n",
    "print (\"Number of training examples: m_train = \" + str(m_train))\n",
    "print (\"Number of testing examples: m_test = \" + str(m_test))"
   ]
  },
  {
   "cell_type": "code",
   "execution_count": 27,
   "metadata": {},
   "outputs": [
    {
     "data": {
      "image/png": "[encoded data removed]",
      "text/plain": [
       "<Figure size 432x288 with 9 Axes>"
      ]
     },
     "metadata": {
      "needs_background": "light"
     },
     "output_type": "display_data"
    }
   ],
   "source": [
    "# random check with nine training examples\n",
    "np.random.seed(0);\n",
    "indices = list(np.random.randint(m_train,size=9))\n",
    "for i in range(9):\n",
    "    plt.subplot(3,3,i+1)\n",
    "    plt.imshow(X_train[indices[i]].reshape(28,28), cmap='gray', interpolation='none')\n",
    "    plt.title(\"Index {} Class {}\".format(indices[i], y_train[indices[i]]))\n",
    "    plt.tight_layout()"
   ]
  },
  {
   "cell_type": "code",
   "execution_count": 28,
   "metadata": {},
   "outputs": [],
   "source": [
    "#Preprocessing\n",
    "\n",
    "# Subsample the data\n",
    "m_train = 59000\n",
    "m_validation = 1000\n",
    "\n",
    "mask = list(range(m_train, m_train + m_validation))\n",
    "X_val = X_train[mask]\n",
    "y_val = y_train[mask]\n",
    "\n",
    "mask = list(range(m_train))\n",
    "X_train = X_train[mask]\n",
    "y_train = y_train[mask]\n",
    "\n",
    "mask = list(range(m_test))\n",
    "X_test = X_test[mask]\n",
    "y_test = y_test[mask]"
   ]
  },
  {
   "cell_type": "code",
   "execution_count": 29,
   "metadata": {},
   "outputs": [],
   "source": [
    "# Reshape data to rows\n",
    "X_train = X_train.reshape(m_train, -1)\n",
    "X_val = X_val.reshape(m_validation, -1)\n",
    "X_test = X_test.reshape(m_test, -1)"
   ]
  },
  {
   "cell_type": "code",
   "execution_count": 30,
   "metadata": {},
   "outputs": [
    {
     "name": "stdout",
     "output_type": "stream",
     "text": [
      "X_train shape: (59000, 784)\n",
      "y_train shape: (59000,)\n",
      "X_val shape: (1000, 784)\n",
      "y_val shape: (1000,)\n",
      "X_test shape: (10000, 784)\n",
      "y_test shape: (10000,)\n",
      "Number of training examples: m_train = 59000\n",
      "Number of validation examples: m_validation = 1000\n",
      "Number of testing examples: m_test = 10000\n"
     ]
    }
   ],
   "source": [
    "print(\"X_train shape: \" + str(X_train.shape))\n",
    "print(\"y_train shape: \" + str(y_train.shape))\n",
    "print(\"X_val shape: \" + str(X_val.shape))\n",
    "print(\"y_val shape: \" + str(y_val.shape))\n",
    "print(\"X_test shape: \" + str(X_test.shape))\n",
    "print(\"y_test shape: \" + str(y_test.shape))\n",
    "print (\"Number of training examples: m_train = \" + str(m_train))\n",
    "print (\"Number of validation examples: m_validation = \" + str(m_validation))\n",
    "print (\"Number of testing examples: m_test = \" + str(m_test))"
   ]
  },
  {
   "cell_type": "code",
   "execution_count": 31,
   "metadata": {},
   "outputs": [
    {
     "name": "stdout",
     "output_type": "stream",
     "text": [
      "Feature Values: \n",
      "From 0 to 255\n",
      "Data type: uint8\n",
      "\n",
      "Label Values: \n",
      "{0, 1, 2, 3, 4, 5, 6, 7, 8, 9}\n",
      "Data type: uint8\n"
     ]
    }
   ],
   "source": [
    "print(\"Feature Values: \\nFrom \" + str(np.min(X_train)) + \" to \" + str(np.max(X_train)))\n",
    "print(\"Data type: \" + str(X_train.dtype))\n",
    "print(\"\\nLabel Values: \")\n",
    "print(set(list(y_train)))\n",
    "print(\"Data type: \" + str(y_train.dtype))"
   ]
  },
  {
   "cell_type": "code",
   "execution_count": 37,
   "metadata": {},
   "outputs": [],
   "source": [
    "#Implacement TwoLayerNet\n",
    "\n",
    "class TwoLayerNet(object):    \n",
    "    \"\"\"\n",
    "    A two-layer fully-connected neural network. The net has an input dimension of\n",
    "    N, a hidden layer dimension of H, and performs classification over C classes.\n",
    "    We train the network with a softmax loss function and L2 regularization on the\n",
    "    weight matrices. The network uses a ReLU nonlinearity after the first fully\n",
    "    connected layer.\n",
    "\n",
    "    In other words, the network has the following architecture:\n",
    "\n",
    "    input - fully connected layer - ReLU - fully connected layer - softmax\n",
    "\n",
    "    The outputs of the second fully-connected layer are the scores for each class.\n",
    "    \"\"\"\n",
    "\n",
    "    def __init__(self, input_size, hidden_size, output_size, std=1e-4): \n",
    "        \"\"\"\n",
    "        Initialize the model. Weights are initialized to small random values and\n",
    "        biases are initialized to zero. Weights and biases are stored in the\n",
    "        variable self.params, which is a dictionary with the following keys:\n",
    "\n",
    "        W1: First layer weights; has shape (D, H)\n",
    "        b1: First layer biases; has shape (H,)\n",
    "        W2: Second layer weights; has shape (H, C)\n",
    "        b2: Second layer biases; has shape (C,)\n",
    "\n",
    "        Inputs:\n",
    "        - input_size: The dimension D of the input data.\n",
    "        - hidden_size: The number of neurons H in the hidden layer.\n",
    "        - output_size: The number of classes C.\n",
    "        \"\"\"\n",
    "        self.params = {}    \n",
    "        self.params['W1'] = std * np.random.randn(input_size, hidden_size)   \n",
    "        self.params['b1'] = np.zeros((1, hidden_size))    \n",
    "        self.params['W2'] = std * np.random.randn(hidden_size, output_size)   \n",
    "        self.params['b2'] = np.zeros((1, output_size))\n",
    "\n",
    "    def loss(self, X, y=None, reg=0.0):\n",
    "            \"\"\"\n",
    "            Compute the loss and gradients for a two layer fully connected neural\n",
    "            network.\n",
    "\n",
    "            Inputs:\n",
    "            - X: Input data of shape (N, D). Each X[i] is a training sample.\n",
    "            - y: Vector of training labels. y[i] is the label for X[i], and each y[i] is\n",
    "              an integer in the range 0 <= y[i] < C. This parameter is optional; if it\n",
    "              is not passed then we only return scores, and if it is passed then we\n",
    "              instead return the loss and gradients.\n",
    "            - reg: Regularization strength.\n",
    "\n",
    "            Returns:\n",
    "            If y is None, return a matrix scores of shape (N, C) where scores[i, c] is\n",
    "            the score for class c on input X[i].\n",
    "\n",
    "            If y is not None, instead return a tuple of:\n",
    "            - loss: Loss (data loss and regularization loss) for this batch of training\n",
    "              samples.\n",
    "            - grads: Dictionary mapping parameter names to gradients of those parameters\n",
    "              with respect to the loss function; has the same keys as self.params.\n",
    "            \"\"\"\n",
    "            # Unpack variables from the params dictionary\n",
    "            W1, b1 = self.params['W1'], self.params['b1']\n",
    "            W2, b2 = self.params['W2'], self.params['b2']\n",
    "            N, D = X.shape\n",
    "\n",
    "            # Compute the forward pass\n",
    "            scores = None\n",
    "            h1 = ReLU(np.dot(X, W1) + b1)      \n",
    "            out = np.dot(h1, W2) + b2          \n",
    "            scores = out\n",
    "\n",
    "            # If the targets are not given then jump out, we're done\n",
    "            if y is None:   \n",
    "                return scores\n",
    "\n",
    "            # Compute the loss\n",
    "            scores_max = np.max(scores, axis=1, keepdims=True)    # (N,1)\n",
    "            exp_scores = np.exp(scores - scores_max)              # (N,C)\n",
    "            probs = exp_scores / np.sum(exp_scores, axis=1, keepdims=True)    # (N,C)\n",
    "            correct_logprobs = -np.log(probs[range(N), y])        # (N,1)\n",
    "            data_loss = np.sum(correct_logprobs) / N\n",
    "            reg_loss = 0.5 * reg * np.sum(W1*W1) + 0.5 * reg * np.sum(W2*W2)\n",
    "            loss = data_loss + reg_loss\n",
    "\n",
    "            # Backward pass: compute gradients\n",
    "            grads = {}\n",
    "            dscores = probs                                 # (N,C)\n",
    "            dscores[range(N), y] -= 1\n",
    "            dscores /= N\n",
    "            dW2 = np.dot(h1.T, dscores)                     # (H,C)\n",
    "            db2 = np.sum(dscores, axis=0, keepdims=True)    # (1,C)\n",
    "            dh1 = np.dot(dscores, W2.T)                     # (N,H)\n",
    "            dh1[h1 <= 0] = 0\n",
    "            dW1 = np.dot(X.T, dh1)                          # (D,H)\n",
    "            db1 = np.sum(dh1, axis=0, keepdims=True)        # (1,H)\n",
    "            dW2 += reg * W2\n",
    "            dW1 += reg * W1\n",
    "\n",
    "            grads['W1'] = dW1\n",
    "            grads['b1'] = db1\n",
    "            grads['W2'] = dW2\n",
    "            grads['b2'] = db2\n",
    "\n",
    "            return loss, grads\n",
    "\n",
    "    def train(self, X, y, X_val, y_val, learning_rate=1e-3, \n",
    "                   learning_rate_decay=0.95, reg=1e-5, mu=0.9, num_epochs=10, \n",
    "                   mu_increase=1.0, batch_size=200, verbose=False):   \n",
    "            \"\"\"\n",
    "            Train this neural network using stochastic gradient descent.\n",
    "\n",
    "            Inputs:\n",
    "            - X: A numpy array of shape (N, D) giving training data.\n",
    "            - y: A numpy array f shape (N,) giving training labels; y[i] = c means that\n",
    "              X[i] has label c, where 0 <= c < C.\n",
    "            - X_val: A numpy array of shape (N_val, D) giving validation data.\n",
    "            - y_val: A numpy array of shape (N_val,) giving validation labels.\n",
    "            - learning_rate: Scalar giving learning rate for optimization.\n",
    "            - learning_rate_decay: Scalar giving factor used to decay the learning rate\n",
    "              after each epoch.\n",
    "            - reg: Scalar giving regularization strength.\n",
    "            - num_iters: Number of steps to take when optimizing.\n",
    "            - batch_size: Number of training examples to use per step.\n",
    "            - verbose: boolean; if true print progress during optimization.\n",
    "            \"\"\"\n",
    "            num_train = X.shape[0]\n",
    "            iterations_per_epoch = max(int(num_train / batch_size), 1)\n",
    "\n",
    "            # Use SGD to optimize the parameters in self.model\n",
    "            v_W2, v_b2 = 0.0, 0.0\n",
    "            v_W1, v_b1 = 0.0, 0.0\n",
    "            loss_history = []\n",
    "            train_acc_history = []\n",
    "            val_acc_history = []\n",
    "\n",
    "            for it in range(1, num_epochs * iterations_per_epoch + 1):   \n",
    "                X_batch = None   \n",
    "                y_batch = None \n",
    "\n",
    "                # Create a random minibatch of training data and labels\n",
    "                sample_index = np.random.choice(num_train, batch_size, replace=True)   \n",
    "                X_batch = X[sample_index, :]          \n",
    "                y_batch = y[sample_index]             \n",
    "\n",
    "                # Compute loss and gradients using the current minibatch\n",
    "                loss, grads = self.loss(X_batch, y=y_batch, reg=reg) \n",
    "                loss_history.append(loss)\n",
    "\n",
    "                # Use the gradients to update the parameters of the network\n",
    "                v_W2 = mu * v_W2 - learning_rate * grads['W2']    \n",
    "                self.params['W2'] += v_W2   \n",
    "                v_b2 = mu * v_b2 - learning_rate * grads['b2']    \n",
    "                self.params['b2'] += v_b2   \n",
    "                v_W1 = mu * v_W1 - learning_rate * grads['W1']    \n",
    "                self.params['W1'] += v_W1   \n",
    "                v_b1 = mu * v_b1 - learning_rate * grads['b1']  \n",
    "                self.params['b1'] += v_b1\n",
    "\n",
    "                if verbose and it % iterations_per_epoch == 0:    \n",
    "                # Every epoch, check train and val accuracy and decay learning rate.\n",
    "                    epoch = it / iterations_per_epoch    \n",
    "                    train_acc = (self.predict(X_batch) == y_batch).mean()    \n",
    "                    val_acc = (self.predict(X_val) == y_val).mean()    \n",
    "                    train_acc_history.append(train_acc)    \n",
    "                    val_acc_history.append(val_acc)    \n",
    "                    print(\"epoch %d / %d: loss %f, train_acc: %f, val_acc: %f\" % \n",
    "                                        (epoch, num_epochs, loss, train_acc, val_acc))\n",
    "\n",
    "                    # Decay learning rate\n",
    "                    learning_rate *= learning_rate_decay    \n",
    "                    mu *= mu_increase\n",
    "\n",
    "            return {   \n",
    "                'loss_history': loss_history,   \n",
    "                'train_acc_history': train_acc_history,   \n",
    "                'val_acc_history': val_acc_history,\n",
    "            }\n",
    "\n",
    "    def predict(self, X):    \n",
    "            \"\"\"\n",
    "            Use the trained weights of this two-layer network to predict labels for\n",
    "            data points. For each data point we predict scores for each of the C\n",
    "            classes, and assign each data point to the class with the highest score.\n",
    "\n",
    "            Inputs:\n",
    "            - X: A numpy array of shape (N, D) giving N D-dimensional data points to\n",
    "              classify.\n",
    "\n",
    "            Returns:\n",
    "            - y_pred: A numpy array of shape (N,) giving predicted labels for each of\n",
    "            the elements of X. For all i, y_pred[i] = c means that X[i] is predicted\n",
    "            to have class c, where 0 <= c < C.\n",
    "            \"\"\"\n",
    "            y_pred = None    \n",
    "            h1 = ReLU(np.dot(X, self.params['W1']) + self.params['b1'])    \n",
    "            scores = np.dot(h1, self.params['W2']) + self.params['b2']    \n",
    "            y_pred = np.argmax(scores, axis=1)    \n",
    "\n",
    "            return y_pred\n",
    "\n",
    "    def ReLU(x):    \n",
    "\n",
    "        return np.maximum(0, x)"
   ]
  },
  {
   "cell_type": "code",
   "execution_count": 38,
   "metadata": {},
   "outputs": [
    {
     "name": "stdout",
     "output_type": "stream",
     "text": [
      "epoch 1 / 10: loss 1.018935, train_acc: 0.647461, val_acc: 0.629000\n",
      "epoch 2 / 10: loss 0.731548, train_acc: 0.825195, val_acc: 0.814000\n",
      "epoch 3 / 10: loss 0.673567, train_acc: 0.833984, val_acc: 0.819000\n",
      "epoch 4 / 10: loss 0.610877, train_acc: 0.836914, val_acc: 0.829000\n",
      "epoch 5 / 10: loss 0.618632, train_acc: 0.823242, val_acc: 0.836000\n",
      "epoch 6 / 10: loss 0.641300, train_acc: 0.815430, val_acc: 0.816000\n",
      "epoch 7 / 10: loss 0.668309, train_acc: 0.809570, val_acc: 0.816000\n",
      "epoch 8 / 10: loss 0.601757, train_acc: 0.833008, val_acc: 0.849000\n",
      "epoch 9 / 10: loss 0.595811, train_acc: 0.832031, val_acc: 0.839000\n",
      "epoch 10 / 10: loss 0.594587, train_acc: 0.833984, val_acc: 0.844000\n"
     ]
    }
   ],
   "source": [
    "# Training and Analysis\n",
    "\n",
    "input_size = X_train.shape[1]\n",
    "hidden_size = 10\n",
    "num_classes = 10\n",
    "net = TwoLayerNet(input_size, hidden_size, num_classes)\n",
    "\n",
    "# Train the network\n",
    "stats = net.train(X_train, y_train, X_val, y_val,num_epochs=10, batch_size=1024,learning_rate=7.5e-4, learning_rate_decay=0.95,reg=1.0, verbose=True)\n",
    "\n",
    "# Predict on the validation set\n",
    "val_acc = (net.predict(X_val) == y_val).mean()"
   ]
  },
  {
   "cell_type": "code",
   "execution_count": 39,
   "metadata": {},
   "outputs": [
    {
     "data": {
      "image/png": "[encoded data removed]",
      "text/plain": [
       "<Figure size 720x576 with 2 Axes>"
      ]
     },
     "metadata": {
      "needs_background": "light"
     },
     "output_type": "display_data"
    }
   ],
   "source": [
    "%matplotlib inline\n",
    "plt.rcParams['figure.figsize'] = (10.0, 8.0) # set default size of plots\n",
    "plt.rcParams['image.interpolation'] = 'nearest'\n",
    "plt.rcParams['image.cmap'] = 'gray'\n",
    "plt.subplots_adjust(wspace =0, hspace =0.3)\n",
    "\n",
    "\n",
    "# Plot the loss function and train / validation accuracies\n",
    "\n",
    "plt.subplot(2, 1, 1)\n",
    "plt.plot(stats['loss_history'])\n",
    "plt.title('Loss history')\n",
    "plt.xlabel('Iteration')\n",
    "plt.ylabel('Loss')\n",
    "\n",
    "plt.subplot(2, 1, 2)\n",
    "plt.plot(stats['train_acc_history'], label='train')\n",
    "plt.plot(stats['val_acc_history'], label='val')\n",
    "plt.title('Classification accuracy history')\n",
    "plt.xlabel('Epoch')\n",
    "plt.ylabel('Clasification accuracy')\n",
    "plt.legend()\n",
    "plt.show()"
   ]
  },
  {
   "cell_type": "code",
   "execution_count": 40,
   "metadata": {},
   "outputs": [
    {
     "name": "stdout",
     "output_type": "stream",
     "text": [
      "lr 2.500000e-04 reg 2.500000e-01 val accuracy: 0.829000\n",
      "lr 2.500000e-04 reg 5.000000e-01 val accuracy: 0.842000\n",
      "lr 2.500000e-04 reg 7.500000e-01 val accuracy: 0.832000\n",
      "lr 2.500000e-04 reg 1.000000e+00 val accuracy: 0.843000\n",
      "lr 5.000000e-04 reg 2.500000e-01 val accuracy: 0.834000\n",
      "lr 5.000000e-04 reg 5.000000e-01 val accuracy: 0.837000\n",
      "lr 5.000000e-04 reg 7.500000e-01 val accuracy: 0.839000\n",
      "lr 5.000000e-04 reg 1.000000e+00 val accuracy: 0.823000\n",
      "lr 7.500000e-04 reg 2.500000e-01 val accuracy: 0.820000\n",
      "lr 7.500000e-04 reg 5.000000e-01 val accuracy: 0.820000\n",
      "lr 7.500000e-04 reg 7.500000e-01 val accuracy: 0.803000\n",
      "lr 7.500000e-04 reg 1.000000e+00 val accuracy: 0.825000\n",
      "lr 1.000000e-03 reg 2.500000e-01 val accuracy: 0.699000\n",
      "lr 1.000000e-03 reg 5.000000e-01 val accuracy: 0.799000\n",
      "lr 1.000000e-03 reg 7.500000e-01 val accuracy: 0.779000\n",
      "lr 1.000000e-03 reg 1.000000e+00 val accuracy: 0.785000\n",
      "best validation accuracy achieved during cross-validation: 0.843000\n"
     ]
    }
   ],
   "source": [
    "# Improve the Net\n",
    "# Fine-tune hyperparameters such as learning_rates and regularization_strengths\n",
    "# To find the best_net for predicting on the test (It takes about 1~3 minutes depends on CPU)\n",
    "# Other hyperparameters: hidden_size / num_epochs / ...\n",
    "\n",
    "hidden_size = 10\n",
    "num_classes = 10\n",
    "\n",
    "results = {}\n",
    "best_val = -1\n",
    "best_net = None\n",
    "\n",
    "learning_rates = np.array([2.5,5,7.5,10])*1e-4\n",
    "regularization_strengths = [0.25,0.5,0.75,1]\n",
    "\n",
    "for lr in learning_rates:\n",
    "    for reg in regularization_strengths:\n",
    "        net = TwoLayerNet(input_size, hidden_size, num_classes)\n",
    "        stats = net.train(X_train, y_train, X_val, y_val,\n",
    "        num_epochs=10, batch_size=1024,\n",
    "        learning_rate=lr, learning_rate_decay=0.95,\n",
    "        reg= reg, verbose=False)\n",
    "        val_acc = (net.predict(X_val) == y_val).mean()\n",
    "        if val_acc > best_val:\n",
    "            best_val = val_acc\n",
    "            best_net = net         \n",
    "        results[(lr,reg)] = val_acc\n",
    "\n",
    "\n",
    "for lr, reg in sorted(results):\n",
    "    val_acc = results[(lr, reg)]\n",
    "    print('lr %e reg %e val accuracy: %f' % (\n",
    "                lr, reg,  val_acc))\n",
    "    \n",
    "print('best validation accuracy achieved during cross-validation: %f' % best_val)"
   ]
  },
  {
   "cell_type": "code",
   "execution_count": 41,
   "metadata": {},
   "outputs": [
    {
     "name": "stdout",
     "output_type": "stream",
     "text": [
      "Test accuracy:  0.8207\n"
     ]
    }
   ],
   "source": [
    "# Predict on the test set (using the best_net)\n",
    "test_acc = (best_net.predict(X_test) == y_test).mean()\n",
    "print('Test accuracy: ', test_acc)"
   ]
  },
  {
   "cell_type": "code",
   "execution_count": null,
   "metadata": {},
   "outputs": [],
   "source": []
  }
 ],
 "metadata": {
  "kernelspec": {
   "display_name": "Python 3",
   "language": "python",
   "name": "python3"
  },
  "language_info": {
   "codemirror_mode": {
    "name": "ipython",
    "version": 3
   },
   "file_extension": ".py",
   "mimetype": "text/x-python",
   "name": "python",
   "nbconvert_exporter": "python",
   "pygments_lexer": "ipython3",
   "version": "3.7.3"
  }
 },
 "nbformat": 4,
 "nbformat_minor": 2
}
