{
 "cells": [
  {
   "cell_type": "code",
   "execution_count": 1,
   "metadata": {},
   "outputs": [
    {
     "name": "stdout",
     "output_type": "stream",
     "text": [
      "1.14.1-dev20190602\n"
     ]
    }
   ],
   "source": [
    "# TensorFlow and tf.keras\n",
    "import tensorflow as tf\n",
    "from tensorflow import keras\n",
    "from tensorflow.keras.layers import Dense\n",
    "\n",
    "# Commonly used modules\n",
    "import numpy as np\n",
    "import os\n",
    "import sys\n",
    "\n",
    "# Images, plots, display, and visualization\n",
    "import matplotlib.pyplot as plt\n",
    "import pandas as pd\n",
    "\n",
    "print(tf.__version__)"
   ]
  },
  {
   "cell_type": "markdown",
   "metadata": {},
   "source": [
    "## Data description\n",
    "\n",
    "DataFrame.describe()\n",
    "Generate descriptive statistics that summarize the central tendency, dispersion and shape of a dataset’s distribution."
   ]
  },
  {
   "cell_type": "markdown",
   "metadata": {},
   "source": [
    "The medv variable is the target variable.\n",
    "\n",
    "\n",
    "## Data description\n",
    "\n",
    "Bộ dữ liệu Boston có 506 dòng và 14 thuộc tính. Các thuộc tính được trình bày ở bảng sau.\n",
    "\n",
    "| Plugin     | <p align=\"center\">README </p>|\n",
    "| ---------- | ------------- |\n",
    "| **crim**   | <p align=\"center\"> per capita crime rate by town </p> |\n",
    "| **zn**     | <p align=\"center\">proportion of residential land zoned for lots over 25,000 sq.ft</p> |\n",
    "|  **indus** | <p align=\"center\">proportion of non-retail business acres per town </p> |\n",
    "| **chas**   | <p align=\"center\">Charles River dummy variable (= 1 if tract bounds river; 0 otherwise) </p> |\n",
    "|  **nox**   | <p align=\"center\">nitrogen oxides concentration (parts per 10 million)</p>  |\n",
    "|  rm        | <p align=\"center\">average number of rooms per dwelling </p> |\n",
    "|  **age**   | <p align=\"center\">proportion of owner-occupied units built prior to 1940 </p> |\n",
    "| **dis**    | <p align=\"center\">weighted mean of distances to five Boston employment centres </p> |\n",
    "|  **rad**   | <p align=\"center\">index of accessibility to radial highways </p> |\n",
    "|  **tax**   | <p align=\"center\">full-value property-tax rate per $\\$$10,000</p> |\n",
    "|  ptratio   | <p align=\"center\">pupil-teacher ratio by town</p> |\n",
    "|  **black** | <p align=\"center\">1000(Bk - 0.63)^2 where Bk is the proportion of blacks by town</p> |\n",
    "|  lstat     | <p align=\"center\">lower status of the population (percent)</p> |\n",
    "|  **medv**  | <p align=\"center\">median value of owner-occupied homes in $\\$$1000s</p> |\n",
    "\n",
    "\n",
    "### Source \n",
    "\n",
    "Harrison, D. and Rubinfeld, D.L. (1978) Hedonic prices and the demand for clean air. J. Environ. Economics and Management 5, 81–102.\n",
    "\n",
    "Belsley D.A., Kuh, E. and Welsch, R.E. (1980) Regression Diagnostics. Identifying Influential Data and Sources of Collinearity. New York: Wiley."
   ]
  },
  {
   "cell_type": "code",
   "execution_count": 2,
   "metadata": {},
   "outputs": [
    {
     "name": "stdout",
     "output_type": "stream",
     "text": [
      "[  0.    0.    0.5   0.    0.4   3.6   2.9   1.1   1.  188.   12.6   0.3\n",
      "   1.7]\n",
      "[ 89.  100.   27.7   1.    0.9   8.7 100.   10.7  24.  711.   22.  396.9\n",
      "  38. ]\n",
      "train_mean:  [3.74511057e+00 1.14801980e+01 1.11044307e+01 6.18811881e-02\n",
      " 5.57355941e-01 6.26708168e+00 6.90106436e+01 3.74027079e+00\n",
      " 9.44059406e+00 4.05898515e+02 1.84759901e+01 3.54783168e+02\n",
      " 1.27408168e+01]\n",
      "train_std [9.22929073e+00 2.37382770e+01 6.80287253e+00 2.40939633e-01\n",
      " 1.17147847e-01 7.08908627e-01 2.79060634e+01 2.02770050e+00\n",
      " 8.68758849e+00 1.66168506e+02 2.19765689e+00 9.39946015e+01\n",
      " 7.24556085e+00]\n"
     ]
    }
   ],
   "source": [
    "(train_features, train_labels), (test_features, test_labels) = keras.datasets.boston_housing.load_data()\n",
    "\n",
    "min_des = np.min(train_features, axis=0)\n",
    "min_des = np.round(min_des, decimals=1)\n",
    "\n",
    "max_des = np.max(train_features, axis=0)\n",
    "max_des = np.round(max_des, decimals=1)\n",
    "\n",
    "print(min_des)\n",
    "print(max_des)\n",
    "\n",
    "# get per-feature statistics (mean, standard deviation) from the training set to normalize by\n",
    "train_mean = np.mean(train_features, axis=0)\n",
    "train_std = np.std(train_features, axis=0)\n",
    "\n",
    "train_features = (train_features - train_mean) / train_std"
   ]
  },
  {
   "cell_type": "code",
   "execution_count": 9,
   "metadata": {},
   "outputs": [
    {
     "name": "stdout",
     "output_type": "stream",
     "text": [
      "(404, 13)\n",
      "(102, 13)\n"
     ]
    }
   ],
   "source": [
    "(train_features, train_labels), (test_features, test_labels) = keras.datasets.boston_housing.load_data()\n",
    "print(train_features.shape)\n",
    "print(test_features.shape)"
   ]
  },
  {
   "cell_type": "code",
   "execution_count": 5,
   "metadata": {},
   "outputs": [],
   "source": [
    "def build_model():\n",
    "    model = keras.Sequential([\n",
    "        Dense(20, activation=tf.nn.relu, input_shape=[len(train_features[0])]), Dense(1)\n",
    "    ])\n",
    "\n",
    "    model.compile(optimizer=tf.train.AdamOptimizer(), \n",
    "                  loss='mse',\n",
    "                  metrics=['mae', 'mse'])\n",
    "    return model"
   ]
  },
  {
   "cell_type": "code",
   "execution_count": 6,
   "metadata": {},
   "outputs": [
    {
     "name": "stdout",
     "output_type": "stream",
     "text": [
      "WARNING:tensorflow:From /home/quangvinhproject/programming_env/tensorflow_projects/lib/python3.6/site-packages/tensorflow/python/ops/resource_variable_ops.py:435: colocate_with (from tensorflow.python.framework.ops) is deprecated and will be removed in a future version.\n",
      "Instructions for updating:\n",
      "Colocations handled automatically by placer.\n",
      "WARNING:tensorflow:From /home/quangvinhproject/programming_env/tensorflow_projects/lib/python3.6/site-packages/tensorflow/python/keras/utils/losses_utils.py:170: to_float (from tensorflow.python.ops.math_ops) is deprecated and will be removed in a future version.\n",
      "Instructions for updating:\n",
      "Use tf.cast instead.\n",
      "WARNING:tensorflow:From /home/quangvinhproject/programming_env/tensorflow_projects/lib/python3.6/site-packages/tensorflow/python/ops/math_ops.py:3066: to_int32 (from tensorflow.python.ops.math_ops) is deprecated and will be removed in a future version.\n",
      "Instructions for updating:\n",
      "Use tf.cast instead.\n",
      "\n",
      "....................................................................................................\n",
      "....................................................................................................\n",
      "....................................................................................................\n",
      "....................................................................................................\n",
      "....................................................................................................\n",
      "....................................................................................................\n",
      "....................................................................................................\n",
      ".......................\n",
      "Final Root Mean Square Error on validation set: 2.386\n"
     ]
    }
   ],
   "source": [
    "# this helps makes our output less verbose but still shows progress\n",
    "class PrintDot(keras.callbacks.Callback):\n",
    "    def on_epoch_end(self, epoch, logs):\n",
    "        if epoch % 100 == 0: print('')\n",
    "        print('.', end='')\n",
    "\n",
    "model = build_model()\n",
    "\n",
    "early_stop = keras.callbacks.EarlyStopping(monitor='val_loss', patience=50)\n",
    "history = model.fit(train_features, train_labels, epochs=1000, verbose=0, validation_split = 0.1,\n",
    "                    callbacks=[early_stop, PrintDot()])\n",
    "\n",
    "hist = pd.DataFrame(history.history)\n",
    "hist['epoch'] = history.epoch\n",
    "\n",
    "# show RMSE measure to compare to Kaggle leaderboard on https://www.kaggle.com/c/boston-housing/leaderboard\n",
    "rmse_final = np.sqrt(float(hist['val_mean_squared_error'].tail(1)))\n",
    "print()\n",
    "print('Final Root Mean Square Error on validation set: {}'.format(round(rmse_final, 3)))"
   ]
  },
  {
   "cell_type": "code",
   "execution_count": 9,
   "metadata": {},
   "outputs": [
    {
     "name": "stdout",
     "output_type": "stream",
     "text": [
      "<class 'dict'>\n"
     ]
    }
   ],
   "source": [
    "print(type(history.history))"
   ]
  },
  {
   "cell_type": "code",
   "execution_count": 6,
   "metadata": {},
   "outputs": [
    {
     "data": {
      "image/png": "[encoded data removed]",
      "text/plain": [
       "<matplotlib.figure.Figure at 0x7fc54685f588>"
      ]
     },
     "metadata": {
      "needs_background": "light"
     },
     "output_type": "display_data"
    }
   ],
   "source": [
    "def plot_history():\n",
    "    plt.figure()\n",
    "    plt.xlabel('Epoch')\n",
    "    plt.ylabel('Mean Square Error [Thousand Dollars$^2$]')\n",
    "    plt.plot(hist['epoch'], hist['mean_squared_error'], label='Train Error')\n",
    "    plt.plot(hist['epoch'], hist['val_mean_squared_error'], label = 'Val Error')\n",
    "    plt.legend()\n",
    "    plt.ylim([0,50])\n",
    "\n",
    "plot_history()"
   ]
  },
  {
   "cell_type": "code",
   "execution_count": 7,
   "metadata": {},
   "outputs": [
    {
     "name": "stdout",
     "output_type": "stream",
     "text": [
      "102/102 [==============================] - 0s 43us/sample - loss: 17.0627 - mean_absolute_error: 2.7425 - mean_squared_error: 17.0627\n",
      "Root Mean Square Error on test set: 4.131\n"
     ]
    }
   ],
   "source": [
    "test_features_norm = (test_features - train_mean) / train_std\n",
    "mse, _, _ = model.evaluate(test_features_norm, test_labels)\n",
    "rmse = np.sqrt(mse)\n",
    "print('Root Mean Square Error on test set: {}'.format(round(rmse, 3)))"
   ]
  },
  {
   "cell_type": "code",
   "execution_count": 16,
   "metadata": {},
   "outputs": [
    {
     "name": "stdout",
     "output_type": "stream",
     "text": [
      "7.2\n",
      "(102, 13)\n",
      "(102, 1)\n",
      "(102,)\n"
     ]
    },
    {
     "data": {
      "image/png": "[encoded data removed]",
      "text/plain": [
       "<matplotlib.figure.Figure at 0x7f446c31b080>"
      ]
     },
     "metadata": {
      "needs_background": "light"
     },
     "output_type": "display_data"
    }
   ],
   "source": [
    "# TensorFlow and tf.keras\n",
    "import tensorflow as tf\n",
    "from tensorflow import keras\n",
    "from tensorflow.keras.layers import Dense\n",
    "\n",
    "# Commonly used modules\n",
    "import numpy as np\n",
    "\n",
    "# Images, plots, display, and visualization\n",
    "import matplotlib.pyplot as plt\n",
    "import pandas as pd\n",
    "\n",
    "def build_model():\n",
    "    model = keras.Sequential([\n",
    "        Dense(20, activation=tf.nn.relu, input_shape=[13]), Dense(1)\n",
    "    ])\n",
    "\n",
    "    model.compile(optimizer=tf.train.AdamOptimizer(), \n",
    "                  loss='mse',\n",
    "                  metrics=['mse'])\n",
    "    return model\n",
    "\n",
    "model = build_model()\n",
    "model.load_weights('pycodes/house_price_prediction.ckpt')\n",
    "\n",
    "(train_features, train_labels), (test_features, test_labels) = keras.datasets.boston_housing.load_data()\n",
    "train_mean = np.mean(train_features, axis=0)\n",
    "train_std = np.std(train_features, axis=0)\n",
    "\n",
    "test_features_norm = (test_features - train_mean) / train_std\n",
    "print(test_features_norm.shape)\n",
    "\n",
    "test_predictions = model.predict(test_features_norm)\n",
    "print(test_predictions.shape)\n",
    "test_predictions = test_predictions.flatten()\n",
    "print(test_predictions.shape)\n",
    "\n",
    "plt.figure()\n",
    "plt.xlabel('Testing samples')\n",
    "plt.ylabel('Predicted and label values')\n",
    "plt.plot(np.arange(0,test_predictions.shape[0]),test_predictions, label='test_predictions')\n",
    "plt.plot(np.arange(0,test_predictions.shape[0]),test_labels, label='test_labels')\n",
    "plt.legend()\n",
    "plt.show()\n",
    "\n"
   ]
  },
  {
   "cell_type": "code",
   "execution_count": 18,
   "metadata": {},
   "outputs": [
    {
     "name": "stdout",
     "output_type": "stream",
     "text": [
      "[18.0846, 0.0, 18.1, 0.0, 0.679, 6.434, 100.0, 1.8347, 24.0, 666.0, 20.2, 27.25, 29.05]\n",
      "[ 1.55369355 -0.48361547  1.0283258  -0.25683275  1.03838067  0.23545815\n",
      "  1.11048828 -0.93976936  1.67588577  1.5652875   0.78447637 -3.48459553\n",
      "  2.25092074]\n",
      "(13,)\n",
      "(1, 13)\n",
      "Predicted house price:  6.682618\n",
      "True value is 7.2\n"
     ]
    }
   ],
   "source": [
    "# TensorFlow and tf.keras\n",
    "import tensorflow as tf\n",
    "from tensorflow import keras\n",
    "from tensorflow.keras.layers import Dense\n",
    "\n",
    "# Commonly used modules\n",
    "import numpy as np\n",
    "\n",
    "# Images, plots, display, and visualization\n",
    "import matplotlib.pyplot as plt\n",
    "import pandas as pd\n",
    "\n",
    "def build_model():\n",
    "    model = keras.Sequential([\n",
    "        Dense(20, activation=tf.nn.relu, input_shape=[13]), Dense(1)\n",
    "    ])\n",
    "\n",
    "    model.compile(optimizer=tf.train.AdamOptimizer(), \n",
    "                  loss='mse',\n",
    "                  metrics=['mse'])\n",
    "    return model\n",
    "\n",
    "model = build_model()\n",
    "model.load_weights('pycodes/house_price_prediction.ckpt')\n",
    "\n",
    "# get mean and std from training data\n",
    "(train_features, train_labels), _ = keras.datasets.boston_housing.load_data()\n",
    "train_mean = np.mean(train_features, axis=0)\n",
    "train_std = np.std(train_features, axis=0)\n",
    "\n",
    "\n",
    "\n",
    "# test for new sample\n",
    "testing_sample = [18.0846, 0., 18.1, 0., 0.679, 6.434,  100., 1.8347, 24., 666., 20.2, 27.25, 29.05]\n",
    "print(testing_sample)\n",
    "\n",
    "# 1.normalize\n",
    "testing_sample = (testing_sample - train_mean) / train_std\n",
    "print(testing_sample)\n",
    "print(testing_sample.shape)\n",
    "\n",
    "# 2. expand dim from (13,) to (1,13) = (number_of_sample, 13). Tensorflow requires this\n",
    "testing_sample = np.expand_dims(testing_sample, axis=0)\n",
    "print(testing_sample.shape)\n",
    "\n",
    "#3. feed into network\n",
    "predicted_value = model.predict(testing_sample)\n",
    "print('Predicted house price: ', predicted_value[0][0])\n",
    "print('True value is 7.2')"
   ]
  },
  {
   "cell_type": "code",
   "execution_count": null,
   "metadata": {},
   "outputs": [],
   "source": []
  }
 ],
 "metadata": {
  "kernelspec": {
   "display_name": "Python 3",
   "language": "python",
   "name": "python3"
  },
  "language_info": {
   "codemirror_mode": {
    "name": "ipython",
    "version": 3
   },
   "file_extension": ".py",
   "mimetype": "text/x-python",
   "name": "python",
   "nbconvert_exporter": "python",
   "pygments_lexer": "ipython3",
   "version": "3.6.7"
  }
 },
 "nbformat": 4,
 "nbformat_minor": 2
}
