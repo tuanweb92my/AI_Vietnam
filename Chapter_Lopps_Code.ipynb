{
 "cells": [
  {
   "cell_type": "code",
   "execution_count": 1,
   "metadata": {},
   "outputs": [],
   "source": [
    "import random"
   ]
  },
  {
   "cell_type": "code",
   "execution_count": null,
   "metadata": {},
   "outputs": [],
   "source": [
    "\n"
   ]
  },
  {
   "cell_type": "code",
   "execution_count": 16,
   "metadata": {},
   "outputs": [
    {
     "name": "stdout",
     "output_type": "stream",
     "text": [
      "How many flips do you want to do? 10\n",
      "\n",
      "Out of 10 coin tosses, we had: 7 heads, and 3 tails.\n"
     ]
    }
   ],
   "source": [
    "# Coin flip program\n",
    "import random\n",
    "nFlips = 0  # to count the number of flips\n",
    "nTails = 0  # to count the number of flips that came up as tails\n",
    "nHeads = 0  # to count the number of flips that came up as heads\n",
    "maxFlips = input('How many flips do you want to do? ')\n",
    "maxFlips = int(maxFlips)\n",
    "while nFlips < maxFlips:\n",
    "    # Randomly choose 0 or 1, because a coin flip can only result in one of two answers\n",
    "    # (heads or tails)zeroOrOne = random.randrange(0, 2)\n",
    "    # If we get a zero, say that was a heads\n",
    "    # If we get a one, we say that was a tails\n",
    "    zeroOrOne = random.randrange(0, 2)\n",
    "    if zeroOrOne == 0:\n",
    "        nTails = nTails + 1\n",
    "    else:\n",
    "        nHeads = nHeads + 1\n",
    "    nFlips = nFlips + 1\n",
    "print()\n",
    "print('Out of', nFlips, 'coin tosses, we had:', nHeads, 'heads, and',nTails, 'tails.')"
   ]
  },
  {
   "cell_type": "code",
   "execution_count": 18,
   "metadata": {},
   "outputs": [
    {
     "name": "stdout",
     "output_type": "stream",
     "text": [
      "Type anything, type 'done' to exit: Hello\n",
      "You entered: Hello\n",
      "Type anything, type 'done' to exit: done\n",
      "Finished\n"
     ]
    }
   ],
   "source": [
    "while True:  # loop forever\n",
    "    line = input(\"Type anything, type 'done' to exit: \")\n",
    "    if line == 'done':\n",
    "        break  # transfers control out of the loop\n",
    "    print('You entered:', line)\n",
    "print('Finished')"
   ]
  },
  {
   "cell_type": "code",
   "execution_count": 26,
   "metadata": {},
   "outputs": [
    {
     "name": "stdout",
     "output_type": "stream",
     "text": [
      "Press Return/Enter to quit, or anything else to continue: AAA\n",
      "Press Return/Enter to quit, or anything else to continue: \n",
      "Finished\n"
     ]
    }
   ],
   "source": [
    "while True:\n",
    "    # do whatever, e.g., play a round of a game\n",
    "    # now ask the user if they want to go again\n",
    "    goAgain = input('Press Return/Enter to quit, or anything else to continue: ')\n",
    "    if goAgain ==\"\" :   # check for no entry\n",
    "        break  # user said they want to quit\n",
    "print('Finished')\n"
   ]
  },
  {
   "cell_type": "code",
   "execution_count": 29,
   "metadata": {},
   "outputs": [
    {
     "name": "stdout",
     "output_type": "stream",
     "text": [
      "Take a guess: 15\n",
      "Your guess was too high.\n"
     ]
    }
   ],
   "source": [
    "# Guess the Number  (version 1)\n",
    "# Show introduction\n",
    "# Choose random target\n",
    "target = 10     # start with a known value\n",
    "# Initialize a guess counter\n",
    "# Loop forever\n",
    "# Ask the user to for a guess\n",
    "userGuess = input('Take a guess: ')\n",
    "userGuess = int(userGuess)\n",
    "# Increment guess counter\n",
    "# If user's guess is correct, congratulate user, we're done\n",
    "if userGuess == target:\n",
    "    print('You got it!')\n",
    "# If user's guess is too low, tell user\n",
    "elif userGuess < target:\n",
    "    print('Your guess was too low.')\n",
    "# If user's guess is too high, tell user)\n",
    "else:\n",
    "    print('Your guess was too high.')\n",
    "          \n",
    "#If reached max guesses, tell answer correct answer, we're done."
   ]
  },
  {
   "cell_type": "code",
   "execution_count": null,
   "metadata": {},
   "outputs": [],
   "source": [
    "\t#Guess the Number  (version 2)\n",
    "\t#Show introduction\n",
    "\t#Choose random target\n",
    "\ttarget = 10     # start with a known value\n",
    "\t#Initialize a guess counter\n",
    "\tguessCounter = 0\n",
    "\t#Loop forever\n",
    "\twhile True:\n",
    "\t\t\t# Ask the user to for a guess\n",
    "\t\t\tuserGuess = input('Take a guess: ')\n",
    "\t\t\tuserGuess = int(userGuess)\n",
    "\t\t\t#Increment guess counter\n",
    "\t\t\tguessCounter = guessCounter + 1\n",
    "\t\t\t# If user's guess is correct, congratulate user, we're done\n",
    "\t\t\tif userGuess == target:\n",
    "\t\t\t\t\tprint('You got it!')\n",
    "\t\t\t\t\tprint('It only took you', guessCounter, 'guess(es).')\n",
    "\t\t\t\t\tbreak\n",
    "\t\t\t#If user's guess is too low, tell user\n",
    "\t\t\telif userGuess < target:\n",
    "\t\t\t\t\tprint('Your guess was too low.')\n",
    "\t\t\t#If user's guess is too high, tell user\n",
    "\t\t\telse:\n",
    "\t\t\t\t\tprint('Your guess was too high.')\n",
    "\t\t\t#If reached max guesses, tell answer correct answer, we're done.\n",
    "\t\t\tif guessCounter == 5:\n",
    "\t\t\t\t\tprint('Sorry, you did not get it in 5 guesses')\n",
    "\t\t\t\t\tprint('The number was:', target)\n",
    "\t\t\t\t\tbreak\n",
    "\tprint('Thanks for playing.')\n"
   ]
  },
  {
   "cell_type": "code",
   "execution_count": 38,
   "metadata": {},
   "outputs": [
    {
     "name": "stdout",
     "output_type": "stream",
     "text": [
      "Welcome to my Guess the Number program.\n",
      "Guess my number between 1 and 20\n",
      "You will have 5 guesses.\n",
      "Take a guess: 10\n",
      "Your guess was too low.\n",
      "Take a guess: 11\n",
      "Your guess was too low.\n",
      "Take a guess: 12\n",
      "Your guess was too low.\n",
      "Take a guess: 13\n",
      "Your guess was too low.\n",
      "Take a guess: 14\n",
      "Your guess was too low.\n",
      "Sorry, you did not get it in 5 guesses.\n",
      "The number was: 19\n",
      "Thanks for playing.\n"
     ]
    }
   ],
   "source": [
    "\t\t#Guess the Number  (version 3)\n",
    "\t\timport random\n",
    "\t\tMAX_GUESSES = 5  # maximum number of guesses allowed\n",
    "\t\tMAX_RANGE = 20 # highest possible number\n",
    "\t\t#Show introduction\n",
    "\t\tprint('Welcome to my Guess the Number program.')\n",
    "\t\tprint('Guess my number between 1 and', MAX_RANGE)\n",
    "\t\tprint('You will have', MAX_GUESSES, 'guesses.')\n",
    "\t\t#Choose random target\n",
    "\t\ttarget = random.randrange(1, MAX_RANGE + 1)\n",
    "\t\t#Initialize a guess counter\n",
    "\t\tguessCounter = 0\n",
    "\t\t#Loop forever\n",
    "\t\twhile True:\n",
    "\t\t\t\t# Ask the user to for a guess\n",
    "\t\t\t\tuserGuess = input('Take a guess: ')\n",
    "\t\t\t\tuserGuess = int(userGuess)\n",
    "\t\t\t\t#Increment guess counter\n",
    "\t\t\t\tguessCounter = guessCounter + 1\n",
    "\t\t\t\t#If user's guess is correct, congratulate user, we're done\n",
    "\t\t\t\tif userGuess == target:\n",
    "\t\t\t\t\t\tprint('You got it!')\n",
    "\t\t\t\t\t\tprint('It only took you', guessCounter, 'guess(es).')\n",
    "\t\t\t\t\t\tbreak\n",
    "\t\t\t\t#If user's guess is too low, tell user\n",
    "\t\t\t\telif userGuess < target:\n",
    "\t\t\t\t\t\tprint('Your guess was too low.')\n",
    "\t\t\t\t#If user's guess is too high, tell user\n",
    "\t\t\t\telse:\n",
    "\t\t\t\t\t\tprint('Your guess was too high.')\n",
    "\t\t\t\t#If reached max guesses, tell answer correct answer, we're done.\n",
    "\t\t\t\tif guessCounter == MAX_GUESSES:\n",
    "\t\t\t\t\t\tprint('Sorry, you did not get it in', MAX_GUESSES, 'guesses.')\n",
    "\t\t\t\t\t\tprint('The number was:', target)\n",
    "\t\t\t\t\t\tbreak\n",
    "\t\tprint('Thanks for playing.')"
   ]
  },
  {
   "cell_type": "code",
   "execution_count": 40,
   "metadata": {},
   "outputs": [
    {
     "name": "stdout",
     "output_type": "stream",
     "text": [
      "Welcome to my Guess the Number program.\n",
      "Guess my number between 1 and 20\n",
      "You will have 5 guesses.\n",
      "Take a guess: 2\n",
      "Your guess was too low.\n",
      "Take a guess: 3\n",
      "Your guess was too low.\n",
      "Take a guess: 4\n",
      "Your guess was too low.\n",
      "Take a guess: 8\n",
      "You got it!\n",
      "It only took you 4 guess(es).\n",
      "Play again? (Press ENTER to continue, or q to quit):\n",
      "Take a guess: 6\n",
      "Your guess was too high.\n",
      "Take a guess: 5\n",
      "You got it!\n",
      "It only took you 2 guess(es).\n",
      "Play again? (Press ENTER to continue, or q to quit):q\n",
      "Thanks for playing.\n"
     ]
    }
   ],
   "source": [
    "\t\t#Guess the Number  (version 4)\n",
    "\t\timport random\n",
    "\t\tMAX_GUESSES = 5  # maximum number of guesses allowed\n",
    "\t\tMAX_RANGE = 20 # highest possible number\n",
    "\t\t#Show introduction\n",
    "\t\tprint('Welcome to my Guess the Number program.')\n",
    "\t\tprint('Guess my number between 1 and', MAX_RANGE)\n",
    "\t\tprint('You will have', MAX_GUESSES, 'guesses.')\n",
    "\t\tdef playOneRound():\n",
    "\t\t\t\t# Choose random target\n",
    "\t\t\t\ttarget = random.randrange(1, MAX_RANGE + 1)\n",
    "\t\t\t\t# Initialize a guess counter\n",
    "\t\t\t\tguessCounter = 0\n",
    "\t\t\t\t# Loop forever\n",
    "\t\t\t\twhile True:\n",
    "\t\t\t\t\t\t# Ask the user to for a guess\n",
    "\t\t\t\t\t\tuserGuess = input('Take a guess: ')\n",
    "\t\t\t\t\t\tuserGuess = int(userGuess)\n",
    "\t\t\t\t\t\t# Increment guess counter\n",
    "\t\t\t\t\t\tguessCounter = guessCounter + 1\n",
    "\t\t\t\t\t\t# If user's guess is correct, congratulate user, we're done\n",
    "\t\t\t\t\t\tif userGuess == target:\n",
    "\t\t\t\t\t\t\t\tprint('You got it!')\n",
    "\t\t\t\t\t\t\t\tprint('It only took you', guessCounter, 'guess(es).')\n",
    "\t\t\t\t\t\t\t\tbreak\n",
    "\t\t\t\t\t\t# If user's guess is too low, tell user\n",
    "\t\t\t\t\t\telif userGuess < target:\n",
    "\t\t\t\t\t\t\t\tprint('Your guess was too low.')\n",
    "\t\t\t\t\t\t# If user's guess is too high, tell user\n",
    "\t\t\t\t\t\telse:\n",
    "\t\t\t\t\t\t\t\tprint('Your guess was too high.')\n",
    "\t\t\t\t\t\t# If reached max guesses, tell answer correct answer, we're done.\n",
    "\t\t\t\t\t\tif guessCounter == MAX_GUESSES:\n",
    "\t\t\t\t\t\t\t\tprint('Sorry, you did not get it in', MAX_GUESSES, 'guesses.')\n",
    "\t\t\t\t\t\t\t\tprint('The number was:', target)\n",
    "\t\t\t\t\t\t\t\tbreak\n",
    "\t\t#main code\n",
    "\t\twhile True:\n",
    "\t\t\t\tplayOneRound()  # call a function to play one round of the game\n",
    "\t\t\t\tgoAgain = input('Play again? (Press ENTER to continue, or q to quit):')\n",
    "\t\t\t\tif goAgain == 'q':\n",
    "\t\t\t\t\t\tbreak\n",
    "\t\tprint('Thanks for playing.')"
   ]
  },
  {
   "cell_type": "code",
   "execution_count": 44,
   "metadata": {},
   "outputs": [
    {
     "name": "stdout",
     "output_type": "stream",
     "text": [
      "Type anything, type 'done' to exit: abc\n",
      "You entered: abc\n",
      "Type anything, type 'done' to exit: skip\n",
      "Type anything, type 'done' to exit: done\n",
      "Finished\n"
     ]
    }
   ],
   "source": [
    "while True:  # loop forever\n",
    "\t\t\tline = input(\"Type anything, type 'done' to exit: \")\n",
    "\t\t\tif line == 'done':\n",
    "\t\t\t\t\tbreak  # transfers control out of the loop\n",
    "\t\t\tif line == 'skip':\n",
    "\t\t\t\t\tcontinue  # transfers control back to the while statement\n",
    "\t\t\tprint('You entered:', line)\n",
    "print('Finished')"
   ]
  },
  {
   "cell_type": "code",
   "execution_count": null,
   "metadata": {},
   "outputs": [
    {
     "name": "stdout",
     "output_type": "stream",
     "text": [
      "Welcome to my Guess the Number program.\n",
      "Guess my number between 1 and 20\n",
      "You will have 5 guesses.\n",
      "Take a guess: 1\n",
      "You got it!\n",
      "It only took you 1 guess(es).\n",
      "Play again? (Press ENTER to continue, or q to quit):\n"
     ]
    }
   ],
   "source": [
    "#Guess the Number (version 5 - final)\n",
    "import random\n",
    "MAX_GUESSES = 5 # maximum number of guesses allowed\n",
    "MAX_RANGE = 20 # highest possible number\n",
    "#Show introduction\n",
    "print('Welcome to my Guess the Number program.')\n",
    "print('Guess my number between 1 and', MAX_RANGE)\n",
    "print('You will have', MAX_GUESSES, 'guesses.')\n",
    "def playOneRound():\n",
    "        # Choose random target\n",
    "        target = random.randrange(1, MAX_RANGE + 1)\n",
    "        # Initialize a guess counter\n",
    "        guessCounter = 0\n",
    "        #Loop forever\n",
    "        while True:\n",
    "                # Ask the user to for a guess\n",
    "                userGuess = input('Take a guess: ')\n",
    "                #Check for potential error\n",
    "                try:\n",
    "                        userGuess = int(userGuess)\n",
    "                except:\n",
    "                        print('Hey, that was NOT an integer!')\n",
    "                        continue  # transfer control back to the while\n",
    "                #Increment guess counter\n",
    "                guessCounter = guessCounter + 1\n",
    "                #If user's guess is correct, congratulate user, we're done\n",
    "                if userGuess == target:\n",
    "                        print('You got it!')\n",
    "                        print('It only took you', guessCounter, 'guess(es).')\n",
    "                        break\n",
    "                #If user's guess is too low, tell user\n",
    "                elif userGuess < target:\n",
    "                        print('Your guess was too low.')\n",
    "                #If user's guess is too high, tell user\n",
    "                else:\n",
    "                        print('Your guess was too high.')\n",
    "                #If reached max guesses, tell answer correct answer, we're done.\n",
    "                if guessCounter == MAX_GUESSES:\n",
    "                        print('Sorry, you did not get it in', MAX_GUESSES, 'guesses.')\n",
    "                        print('The number was:', target)\n",
    "                        break\n",
    "#main code\n",
    "while True:\n",
    "        playOneRound()  # call a function to play one round of the game\n",
    "        goAgain = input('Play again? (Press ENTER to continue, or q to quit):')\n",
    "        if goAgain == 'q':\n",
    "                break\n",
    "print('Thanks for playing.')\n",
    "\n"
   ]
  },
  {
   "cell_type": "code",
   "execution_count": 54,
   "metadata": {},
   "outputs": [
    {
     "name": "stdout",
     "output_type": "stream",
     "text": [
      "Please enter an integer: 23\n",
      "The number you entered is not in between -5 and 21\n",
      "Please enter an integer: 22\n",
      "The number you entered is not in between -5 and 21\n",
      "Please enter an integer: 23\n",
      "The number you entered is not in between -5 and 21\n",
      "Please enter an integer: 12\n",
      "The number you entered was:  12\n"
     ]
    }
   ],
   "source": [
    "# Ask the user to enter an integer within a given range\n",
    "def getIntegerInRange(prompt, lowEnd, includedHighEnd):\n",
    "    while True:\n",
    "        number = input(prompt)\n",
    "        try:\n",
    "            number = int(number)\n",
    "        except:\n",
    "            print('That is not an integer, please try again.')\n",
    "            continue\n",
    "        if (number < lowEnd) or (number > includedHighEnd):\n",
    "            print ('The number you entered is not in between', \\\n",
    "                  lowEnd, 'and', includedHighEnd)\n",
    "        else:\n",
    "            #Everything OK\n",
    "            return number\n",
    "# Ask user to give a number between -5 and 20\n",
    "myInteger = getIntegerInRange('Please enter an integer: ', -5, 21)\n",
    "print('The number you entered was: ', myInteger)"
   ]
  },
  {
   "cell_type": "code",
   "execution_count": null,
   "metadata": {},
   "outputs": [],
   "source": []
  }
 ],
 "metadata": {
  "kernelspec": {
   "display_name": "Python 3",
   "language": "python",
   "name": "python3"
  },
  "language_info": {
   "codemirror_mode": {
    "name": "ipython",
    "version": 3
   },
   "file_extension": ".py",
   "mimetype": "text/x-python",
   "name": "python",
   "nbconvert_exporter": "python",
   "pygments_lexer": "ipython3",
   "version": "3.7.3"
  }
 },
 "nbformat": 4,
 "nbformat_minor": 2
}
