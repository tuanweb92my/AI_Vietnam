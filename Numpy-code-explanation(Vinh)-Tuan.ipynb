{
 "cells": [
  {
   "cell_type": "code",
   "execution_count": 5,
   "metadata": {},
   "outputs": [
    {
     "data": {
      "text/plain": [
       "'1.16.2'"
      ]
     },
     "execution_count": 5,
     "metadata": {},
     "output_type": "execute_result"
    }
   ],
   "source": [
    "# câu 1 : Khai báo hàm numpy và in ra version \n",
    "\n",
    "import numpy as np\n",
    "np.version.version"
   ]
  },
  {
   "cell_type": "code",
   "execution_count": 6,
   "metadata": {},
   "outputs": [
    {
     "data": {
      "text/plain": [
       "array([0, 1, 2, 3, 4, 5, 6, 7, 8, 9])"
      ]
     },
     "execution_count": 6,
     "metadata": {},
     "output_type": "execute_result"
    }
   ],
   "source": [
    "# câu 2 : Tạo mảng 1 chiều từ 0 đến 9\n",
    "\n",
    "np.arange(0,10)"
   ]
  },
  {
   "cell_type": "code",
   "execution_count": 16,
   "metadata": {},
   "outputs": [
    {
     "data": {
      "text/plain": [
       "array([[ True,  True,  True],\n",
       "       [ True,  True,  True],\n",
       "       [ True,  True,  True]])"
      ]
     },
     "execution_count": 16,
     "metadata": {},
     "output_type": "execute_result"
    }
   ],
   "source": [
    "# câu 3: Tạo một mảng boolean 3x3 với tất cả giá trị là True\n",
    "\n",
    "# Cách 1 :\n",
    "np.ones((3,3)) > 0\n",
    "# Cách 2 : \n",
    "np.ones((3,3),dtype=bool) \n",
    "# Cách 3:\n",
    "np.full((3,3),True,dtype=bool)"
   ]
  },
  {
   "cell_type": "code",
   "execution_count": 37,
   "metadata": {},
   "outputs": [
    {
     "data": {
      "text/plain": [
       "array([1, 3, 5, 7, 9])"
      ]
     },
     "execution_count": 37,
     "metadata": {},
     "output_type": "execute_result"
    }
   ],
   "source": [
    "# câu 4 : Lấy những phần tử mà thoả mãn một điều kiện cho trước của mảng một chiều\n",
    "\n",
    "# Tìm phần tử có giá rị lẻ \n",
    "arr = np.arange(0,10)\n",
    "arr[arr%2==1]\n"
   ]
  },
  {
   "cell_type": "code",
   "execution_count": 38,
   "metadata": {},
   "outputs": [
    {
     "data": {
      "text/plain": [
       "array([ 0, -1,  2, -1,  4, -1,  6, -1,  8, -1])"
      ]
     },
     "execution_count": 38,
     "metadata": {},
     "output_type": "execute_result"
    }
   ],
   "source": [
    "# câu 5 : Thay thế phần tử thoả mãn điều kiện cho trước bằng 1 một giá khác\n",
    "\n",
    "# Thay thế phần tử có giá trị lẻ bằng -1\n",
    "arr = np.arange(0,10)\n",
    "arr[arr %2 ==1] = -1\n",
    "arr"
   ]
  },
  {
   "cell_type": "code",
   "execution_count": 46,
   "metadata": {},
   "outputs": [
    {
     "name": "stdout",
     "output_type": "stream",
     "text": [
      "[0 1 2 3 4 5 6 7 8 9]\n"
     ]
    },
    {
     "data": {
      "text/plain": [
       "array([ 0, -1,  2, -1,  4, -1,  6, -1,  8, -1])"
      ]
     },
     "execution_count": 46,
     "metadata": {},
     "output_type": "execute_result"
    }
   ],
   "source": [
    "# câu 6 : Thay thế phần tử thoả mãn điều kiện cho trước bằng 1 một giá khác \n",
    "# nhưng không thay đổi mảng ban đầu\n",
    "\n",
    "# Thay thế tất cả số lẻ bằng giá trị -1 nhưng mảng ban đầu không thay đổi\n",
    "\n",
    "arr = np.arange(0,10) \n",
    "print(arr)\n",
    "arr_copy = arr\n",
    "arr_copy[arr %2 ==1] = -1\n",
    "arr_copy\n",
    "\n",
    "# Cách 2 :\n",
    "out = np.where(arr%2== 1,-1,arr)\n",
    "out\n"
   ]
  },
  {
   "cell_type": "code",
   "execution_count": 51,
   "metadata": {},
   "outputs": [
    {
     "name": "stdout",
     "output_type": "stream",
     "text": [
      "[0 1 2 3 4 5 6 7 8 9]\n"
     ]
    },
    {
     "data": {
      "text/plain": [
       "array([[0, 1, 2, 3, 4],\n",
       "       [5, 6, 7, 8, 9]])"
      ]
     },
     "execution_count": 51,
     "metadata": {},
     "output_type": "execute_result"
    }
   ],
   "source": [
    "# câu 7 : Định dạng/chuyển mảng\n",
    "\n",
    "# Chuyển mảng 1 chiều thành mảng 2 chiều có 2 hàng ( dòng )\n",
    "\n",
    "arr = np.arange(10) # tạo mảng 1d gồm 10 phần tử\n",
    "print(arr)\n",
    "arr_2d = arr.reshape(2,-1) # -1 có ý nghìa là số cột của data_2d được tính tự động\n",
    "arr_2d"
   ]
  },
  {
   "cell_type": "code",
   "execution_count": 64,
   "metadata": {},
   "outputs": [
    {
     "name": "stdout",
     "output_type": "stream",
     "text": [
      "[[0 1 2 3 4]\n",
      " [5 6 7 8 9]]\n",
      "[[1 1 1 1 1]\n",
      " [1 1 1 1 1]]\n"
     ]
    },
    {
     "data": {
      "text/plain": [
       "array([[0, 1, 2, 3, 4],\n",
       "       [5, 6, 7, 8, 9],\n",
       "       [1, 1, 1, 1, 1],\n",
       "       [1, 1, 1, 1, 1]])"
      ]
     },
     "execution_count": 64,
     "metadata": {},
     "output_type": "execute_result"
    }
   ],
   "source": [
    "# câu 8:  xếp chồng 2 mảng theo chiều dọc\n",
    "\n",
    "a = np.arange(10).reshape(2,-1)\n",
    "print(a)\n",
    "b = np.repeat(1,10).reshape(2,-1)\n",
    "print(b)\n",
    "\n",
    "# Cách 1 : \n",
    "c= np.concatenate([a,b],axis =0)\n",
    "c\n",
    "\n",
    "# Cách 2 : \n",
    "d = np.vstack([a,b])\n",
    "d\n",
    "\n",
    "# Cách 3 : \n",
    "e = np.r_[a,b]\n",
    "e"
   ]
  },
  {
   "cell_type": "code",
   "execution_count": null,
   "metadata": {},
   "outputs": [],
   "source": []
  },
  {
   "cell_type": "code",
   "execution_count": 67,
   "metadata": {},
   "outputs": [
    {
     "name": "stdout",
     "output_type": "stream",
     "text": [
      "[[0 1 2 3 4]\n",
      " [5 6 7 8 9]]\n",
      "[[1 1 1 1 1]\n",
      " [1 1 1 1 1]]\n"
     ]
    },
    {
     "data": {
      "text/plain": [
       "array([[0, 1, 2, 3, 4, 1, 1, 1, 1, 1],\n",
       "       [5, 6, 7, 8, 9, 1, 1, 1, 1, 1]])"
      ]
     },
     "execution_count": 67,
     "metadata": {},
     "output_type": "execute_result"
    }
   ],
   "source": [
    "# câu 9 : xếp chồng 2 mảng theo chiều ngang\n",
    "\n",
    "a = np.arange(10).reshape(2,-1)\n",
    "print(a)\n",
    "b = np.repeat(1,10).reshape(2,-1)\n",
    "print(b)\n",
    "\n",
    "# Cách 1 : \n",
    "c= np.concatenate([a,b],axis =1)\n",
    "c\n",
    "\n",
    "# Cách 2 : \n",
    "d = np.hstack([a,b])\n",
    "d\n",
    "\n",
    "# Cách 3 : \n",
    "e = np.c_[a,b]\n",
    "e"
   ]
  },
  {
   "cell_type": "code",
   "execution_count": null,
   "metadata": {
    "scrolled": false
   },
   "outputs": [],
   "source": []
  },
  {
   "cell_type": "code",
   "execution_count": 82,
   "metadata": {},
   "outputs": [
    {
     "name": "stdout",
     "output_type": "stream",
     "text": [
      "[1 2 3]\n"
     ]
    },
    {
     "data": {
      "text/plain": [
       "array([1, 1, 1, 2, 2, 2, 3, 3, 3, 1, 2, 3, 1, 2, 3, 1, 2, 3])"
      ]
     },
     "execution_count": 82,
     "metadata": {},
     "output_type": "execute_result"
    }
   ],
   "source": [
    "# câu 10 : Tạo ra chuỗi custom không dùng hàm mã hoá\n",
    "\n",
    "# Tạo ra mảng sau không dùng hàm mã hoá \n",
    "# chỉ dùng hàm numpy có sẵn với mảng a như bên dưới\n",
    "\n",
    "a = np.array([1,2,3])\n",
    "print(a)\n",
    "np.repeat(a,3) # tạo mảng mới lặp lại mỗi phần tử lên 3 lần\n",
    "np.tile(a,3) # tạo mảng mới lặp lại mảng tất cả phần tử lên 3 lần\n",
    "np.hstack([np.repeat(a,3) , np.tile(a,3)]) # xếp chồng 2 mảng theo chiều ngang "
   ]
  },
  {
   "cell_type": "code",
   "execution_count": 83,
   "metadata": {},
   "outputs": [
    {
     "data": {
      "text/plain": [
       "array([2, 4])"
      ]
     },
     "execution_count": 83,
     "metadata": {},
     "output_type": "execute_result"
    }
   ],
   "source": [
    "# câu 11 : Lấy phần tử chung của 2 mảng a và b \n",
    "\n",
    "a = np.array([1,2,3,2,3,4,3,5,6])\n",
    "b = np.array([7,2,10,2,7,4,9,4,9,8])\n",
    "\n",
    "np.intersect1d(a,b)\n",
    "\n"
   ]
  },
  {
   "cell_type": "code",
   "execution_count": 85,
   "metadata": {},
   "outputs": [
    {
     "data": {
      "text/plain": [
       "array([1, 2, 3, 4])"
      ]
     },
     "execution_count": 85,
     "metadata": {},
     "output_type": "execute_result"
    }
   ],
   "source": [
    "# câu 12 : Xoá phần tử từ 1 mảng mà tồn tại trong 1 mảng khác\n",
    "\n",
    "# Từ mảng a xoá tất cả các phần tử mà đã có trong mảng b\n",
    "\n",
    "a = np.array([1,2,3,4,5])\n",
    "b = np.array([5,6,7,8,9])\n",
    "\n",
    "np.setdiff1d(a,b)"
   ]
  },
  {
   "cell_type": "code",
   "execution_count": 86,
   "metadata": {},
   "outputs": [
    {
     "data": {
      "text/plain": [
       "(array([1, 3, 5, 7]),)"
      ]
     },
     "execution_count": 86,
     "metadata": {},
     "output_type": "execute_result"
    }
   ],
   "source": [
    "# câu 13: Lấy tất cả vị trí nơi giá trị các phần tử của 2 mảng a,b giống nha\n",
    "\n",
    "a = np.array([1,2,3,2,3,4,3,4,5,6])\n",
    "b = np.array([7,2,10,2,7,4,9,4,9,8])\n",
    "\n",
    "np.where(a ==b)"
   ]
  },
  {
   "cell_type": "code",
   "execution_count": 93,
   "metadata": {},
   "outputs": [
    {
     "name": "stdout",
     "output_type": "stream",
     "text": [
      "(array([1, 3, 4]),)\n"
     ]
    },
    {
     "data": {
      "text/plain": [
       "array([ 6,  9, 10])"
      ]
     },
     "execution_count": 93,
     "metadata": {},
     "output_type": "execute_result"
    }
   ],
   "source": [
    "# câu 14 : Lấy tất cả các giá trị trong 1 phạm vi cho trước từ 1 mảng\n",
    "\n",
    "a = np.array([2,6,1,9,10,3,27])\n",
    "\n",
    "# Cách 1: tìm tất cả vi trí của các phần tử có giá trị trong phạm vi cho trước \n",
    "index = np.where((a>=5)&(a<=10))\n",
    "print(index)\n",
    "a[index]\n",
    "\n",
    "#Cách 2 :\n",
    "index = np.where(np.logical_and(a>=5,a<=10))\n",
    "a[index]\n",
    "\n",
    "#Cách 3: \n",
    "a[(a>=5)&(a<=10)]\n",
    "\n"
   ]
  },
  {
   "cell_type": "code",
   "execution_count": 107,
   "metadata": {},
   "outputs": [
    {
     "data": {
      "text/plain": [
       "array([6., 7., 9., 8., 9., 7., 5.])"
      ]
     },
     "execution_count": 107,
     "metadata": {},
     "output_type": "execute_result"
    }
   ],
   "source": [
    "# câu 15 : Tạo hàm xử lý số vô hướng ứng dụng trên mảng numpy\n",
    "\n",
    "# Biến đổi hàm maxx xử lý trên 2 số vô hướng để áp dụng trên 2 mảng:\n",
    "\n",
    "def maxx(x,y):\n",
    "    # Lấy số lớn nhất nhất trong 2 số\n",
    "    if x >= y :\n",
    "        return x\n",
    "    else:\n",
    "        return y\n",
    "    \n",
    "# numpy.vectorize lấy hàm maxx: x,y và biến nó thành maxx: a[] -> b[].\n",
    "pair_max = np.vectorize(maxx,otypes=[float])\n",
    "\n",
    "a = np.array([5,7,9,8,6,4,5])\n",
    "b = np.array([6,3,4,8,9,7,1])\n",
    "\n",
    "pair_max(a,b)\n"
   ]
  },
  {
   "cell_type": "code",
   "execution_count": 109,
   "metadata": {},
   "outputs": [
    {
     "data": {
      "text/plain": [
       "array([6, 7, 9, 8, 9, 7, 5])"
      ]
     },
     "execution_count": 109,
     "metadata": {},
     "output_type": "execute_result"
    }
   ],
   "source": [
    "# Cách 2: dùng hàm maximum\n",
    "a = np.array([5,7,9,8,6,4,5])\n",
    "b = np.array([6,3,4,8,9,7,1])\n",
    "np.maximum(a,b)\n",
    "\n",
    "#Cách 3: dùng hàm where \n",
    "np.where(a > b,a,b)"
   ]
  },
  {
   "cell_type": "code",
   "execution_count": 143,
   "metadata": {},
   "outputs": [
    {
     "name": "stdout",
     "output_type": "stream",
     "text": [
      "[[0 1 2]\n",
      " [3 4 5]\n",
      " [6 7 8]]\n"
     ]
    },
    {
     "data": {
      "text/plain": [
       "array([[1, 0, 2],\n",
       "       [4, 3, 5],\n",
       "       [7, 6, 8]])"
      ]
     },
     "execution_count": 143,
     "metadata": {},
     "output_type": "execute_result"
    }
   ],
   "source": [
    "# câu 16 : Hoán 2 cột trong mảng 2 chiều \n",
    "\n",
    "# Ví dụ: Hoán cột 1 và 2 trong mảng arr\n",
    "arr = np.arange(9).reshape(3,3)\n",
    "print(arr)\n",
    "# in theo thứ tự cột 0,2,1\n",
    "arr[:,[1,0,2]]"
   ]
  },
  {
   "cell_type": "code",
   "execution_count": 142,
   "metadata": {},
   "outputs": [
    {
     "name": "stdout",
     "output_type": "stream",
     "text": [
      "[[0 1 2]\n",
      " [3 4 5]\n",
      " [6 7 8]]\n"
     ]
    },
    {
     "data": {
      "text/plain": [
       "array([[3, 4, 5],\n",
       "       [0, 1, 2],\n",
       "       [6, 7, 8]])"
      ]
     },
     "execution_count": 142,
     "metadata": {},
     "output_type": "execute_result"
    }
   ],
   "source": [
    "# câu 17 :  Hoán 2 hàng trong mảng 2 chiều \n",
    "\n",
    "# Ví dụ: Hoán dòng 1 và 2 trong mảng arr\n",
    "arr = np.arange(9).reshape(3,3)\n",
    "print(arr)\n",
    "# in theo thứ tự cột 0,2,1\n",
    "arr[[1,0,2],:]"
   ]
  },
  {
   "cell_type": "code",
   "execution_count": 147,
   "metadata": {},
   "outputs": [
    {
     "name": "stdout",
     "output_type": "stream",
     "text": [
      "[[0 1 2]\n",
      " [3 4 5]\n",
      " [6 7 8]]\n"
     ]
    },
    {
     "data": {
      "text/plain": [
       "array([[6, 7, 8],\n",
       "       [3, 4, 5],\n",
       "       [0, 1, 2]])"
      ]
     },
     "execution_count": 147,
     "metadata": {},
     "output_type": "execute_result"
    }
   ],
   "source": [
    "# câu 18 : Đoản ngược hàng trong mảng 2 chiều\n",
    "\n",
    "arr = np.arange(9).reshape(3,3)\n",
    "print(arr)\n",
    "arr[::-1,]"
   ]
  },
  {
   "cell_type": "code",
   "execution_count": 148,
   "metadata": {},
   "outputs": [
    {
     "name": "stdout",
     "output_type": "stream",
     "text": [
      "[[0 1 2]\n",
      " [3 4 5]\n",
      " [6 7 8]]\n"
     ]
    },
    {
     "data": {
      "text/plain": [
       "array([[2, 1, 0],\n",
       "       [5, 4, 3],\n",
       "       [8, 7, 6]])"
      ]
     },
     "execution_count": 148,
     "metadata": {},
     "output_type": "execute_result"
    }
   ],
   "source": [
    "# câu 19 : # câu 18 : Đoản ngược cột trong mảng 2 chiều\n",
    "\n",
    "arr = np.arange(9).reshape(3,3)\n",
    "print(arr)\n",
    "arr[:,::-1]"
   ]
  },
  {
   "cell_type": "code",
   "execution_count": 155,
   "metadata": {},
   "outputs": [
    {
     "name": "stdout",
     "output_type": "stream",
     "text": [
      "[[6.47685264 7.86244037 6.14808425]\n",
      " [8.21788856 8.30326847 5.69096852]\n",
      " [7.52502254 8.05263037 5.58540214]\n",
      " [5.49201034 6.64052277 8.07812157]\n",
      " [5.17193202 8.56214323 6.66659607]]\n"
     ]
    }
   ],
   "source": [
    "# Câu 20 :  Tạo mảng 2 chiều chứa số kiểu float từ 5 đến 10\n",
    "\n",
    "# Cách 1 : Dùng hàm uniform cho kiểu float\n",
    "# Tạo mảng 2 chiều 5x3 từ 5 đến 10\n",
    "\n",
    "arr = np.random.uniform(5,10,size=(5,3)).reshape(5,3)\n",
    "print(arr)"
   ]
  },
  {
   "cell_type": "code",
   "execution_count": 160,
   "metadata": {},
   "outputs": [
    {
     "name": "stdout",
     "output_type": "stream",
     "text": [
      "[[5.42979563 7.68312075 7.13231802]\n",
      " [5.30241536 6.4205596  8.08502439]\n",
      " [8.68667298 5.99197105 5.91279598]\n",
      " [6.07384813 9.10311803 8.96379223]\n",
      " [5.56598781 6.42861612 5.52049045]]\n"
     ]
    }
   ],
   "source": [
    "# Cách 2 : Tạo mảng 2 chiều 5x3 chứa kiểu float từ 5 đến 10 \n",
    "# dùng hàm randint (số nguyên) và random (số float từ 0 đến 1) \n",
    "\n",
    "arr = np.random.randint(5,10,size=(5,3)) + np.random.random((5,3))\n",
    "print(arr)"
   ]
  },
  {
   "cell_type": "code",
   "execution_count": 201,
   "metadata": {},
   "outputs": [
    {
     "data": {
      "text/plain": [
       "array([[0.8162247487, 0.274073747 , 0.4317041837],\n",
       "       [0.9400298196, 0.8176493788, 0.3361119501],\n",
       "       [0.1754104537, 0.3728320463, 0.0056885074],\n",
       "       [0.2524263534, 0.7956625085, 0.0152549712],\n",
       "       [0.5988433769, 0.603804539 , 0.1051476854]])"
      ]
     },
     "execution_count": 201,
     "metadata": {},
     "output_type": "execute_result"
    }
   ],
   "source": [
    "# câu 21 :  In mảng 2 chiều kiểu float chỉ với 3 số lẻ\n",
    "\n",
    "# Input\n",
    "rand_arr = np.random.random([5,3])\n",
    "# giới hạn in 3 số lẻ \n",
    "np.set_printoptions(precision=10)\n",
    "rand_arr\n"
   ]
  },
  {
   "cell_type": "code",
   "execution_count": 204,
   "metadata": {},
   "outputs": [
    {
     "name": "stdout",
     "output_type": "stream",
     "text": [
      "[[0.543405 0.278369 0.424518]\n",
      " [0.844776 0.004719 0.121569]\n",
      " [0.670749 0.825853 0.136707]]\n",
      "[[0.000575 0.000891 0.000209]\n",
      " [0.000185 0.000108 0.00022 ]\n",
      " [0.000979 0.000812 0.000172]]\n",
      "[[0.000575 0.000891 0.000209]\n",
      " [0.000185 0.000108 0.00022 ]\n",
      " [0.000979 0.000812 0.000172]]\n"
     ]
    }
   ],
   "source": [
    "# câu 22 : Làm thế nào để in một mảng gọn gàng \n",
    "# bằng cách loại bỏ ký hiệu khoa học (như 1e10)\n",
    "\n",
    "# Ví dụ :\n",
    "# hàm seed tạo ra các số ngẫu nhiên có thể dự đoán được tức không đổi\n",
    "np.random.seed(100)\n",
    "print(np.random.random([3,3]))\n",
    "\n",
    "rand_arr = np.random.random([3,3])/1e3\n",
    "print(rand_arr)\n",
    "# giới hạn in 6 số lẻ và suppress=True : nghĩa là loại bỏ ki hiệu toán học\n",
    "np.set_printoptions(suppress=True,precision=6)\n",
    "print(rand_arr)"
   ]
  },
  {
   "cell_type": "code",
   "execution_count": 207,
   "metadata": {},
   "outputs": [
    {
     "name": "stdout",
     "output_type": "stream",
     "text": [
      "[ 0  1  2 ... 12 13 14]\n"
     ]
    },
    {
     "data": {
      "text/plain": [
       "array([ 0,  1,  2, ..., 12, 13, 14])"
      ]
     },
     "execution_count": 207,
     "metadata": {},
     "output_type": "execute_result"
    }
   ],
   "source": [
    "# câu 23 : Giới hạn số phần tử được in ra của mảng\n",
    "\n",
    "a = np.arange(15)\n",
    "print(a)\n",
    "# threshold = 6 : nghhĩa là chỉ hiển thị 6 phần tử \n",
    "np.set_printoptions(threshold=6)\n",
    "a"
   ]
  },
  {
   "cell_type": "code",
   "execution_count": 227,
   "metadata": {},
   "outputs": [
    {
     "name": "stdout",
     "output_type": "stream",
     "text": [
      "[ 0  1  2  3  4  5  6  7  8  9 10 11 12 13 14 15 16 17 18 19 20 21 22 23\n",
      " 24 25 26 27 28 29 30 31 32 33 34 35 36 37 38 39 40 41 42 43 44 45 46 47\n",
      " 48 49 50 51 52 53 54 55 56 57 58 59 60 61 62 63 64 65 66 67 68 69 70 71\n",
      " 72 73 74 75 76 77 78 79 80 81 82 83 84 85 86 87 88 89 90 91 92 93 94 95\n",
      " 96 97 98 99]\n"
     ]
    },
    {
     "data": {
      "text/plain": [
       "array([ 0,  1,  2,  3,  4,  5,  6,  7,  8,  9, 10, 11, 12, 13, 14, 15, 16,\n",
       "       17, 18, 19, 20, 21, 22, 23, 24, 25, 26, 27, 28, 29, 30, 31, 32, 33,\n",
       "       34, 35, 36, 37, 38, 39, 40, 41, 42, 43, 44, 45, 46, 47, 48, 49, 50,\n",
       "       51, 52, 53, 54, 55, 56, 57, 58, 59, 60, 61, 62, 63, 64, 65, 66, 67,\n",
       "       68, 69, 70, 71, 72, 73, 74, 75, 76, 77, 78, 79, 80, 81, 82, 83, 84,\n",
       "       85, 86, 87, 88, 89, 90, 91, 92, 93, 94, 95, 96, 97, 98, 99])"
      ]
     },
     "execution_count": 227,
     "metadata": {},
     "output_type": "execute_result"
    }
   ],
   "source": [
    "# câu 24 : In đầy đủ tất cả các số phần tử của mảng\n",
    "\n",
    "a = np.arange(100)\n",
    "print(a)\n",
    "np.set_printoptions(threshold=np.inf)\n",
    "a"
   ]
  },
  {
   "cell_type": "code",
   "execution_count": 281,
   "metadata": {},
   "outputs": [
    {
     "name": "stdout",
     "output_type": "stream",
     "text": [
      "('sepallength', 'sepalwidth', 'petallength', 'petalwidth', 'species')\n",
      "[[b'5.1' b'3.5' b'1.4' b'0.2' b'Iris-setosa']\n",
      " [b'4.9' b'3.0' b'1.4' b'0.2' b'Iris-setosa']\n",
      " [b'4.7' b'3.2' b'1.3' b'0.2' b'Iris-setosa']]\n",
      "(150, 5)\n"
     ]
    },
    {
     "data": {
      "text/plain": [
       "array([b'Iris-setosa', b'Iris-setosa', b'Iris-setosa', b'Iris-setosa',\n",
       "       b'Iris-setosa', b'Iris-setosa', b'Iris-setosa', b'Iris-setosa',\n",
       "       b'Iris-setosa', b'Iris-setosa'], dtype=object)"
      ]
     },
     "execution_count": 281,
     "metadata": {},
     "output_type": "execute_result"
    }
   ],
   "source": [
    "# câu 25 : Nhập tập dữ liệu với số và văn bản \n",
    "# vẫn giữ nguyên trạng văn bản trong mảng numpy\n",
    "\n",
    "# ví dụ : Nhập tập dữ liệu IRIS giữ nguyên trạng văn bản\n",
    "url = 'https://archive.ics.uci.edu/ml/machine-learning-databases/iris/iris.data'\n",
    "# Vì chúng ta muốn giữ nguyên các mẫu, các trường văn bản, loại dữ liệu là đối tượng(dtype=object)\n",
    "# Nếu dtype = None thì mảng 1 chiều kiểu tuples sẽ được trả về\n",
    "iris = np.genfromtxt(url,delimiter=',',dtype='object')\n",
    "names = ('sepallength','sepalwidth','petallength','petalwidth','species')\n",
    "print(names)\n",
    "print(iris[:3]) # in 3 hàng đầu tiên\n",
    "print(iris.shape)\n",
    "iris[:5,4].shape\n",
    "iris[:10,4]"
   ]
  },
  {
   "cell_type": "code",
   "execution_count": 296,
   "metadata": {},
   "outputs": [
    {
     "name": "stdout",
     "output_type": "stream",
     "text": [
      "(150,)\n",
      "[(5.1, 3.5, 1.4, 0.2, b'Iris-setosa') (4.9, 3. , 1.4, 0.2, b'Iris-setosa')\n",
      " (4.7, 3.2, 1.3, 0.2, b'Iris-setosa') (4.6, 3.1, 1.5, 0.2, b'Iris-setosa')\n",
      " (5. , 3.6, 1.4, 0.2, b'Iris-setosa')]\n"
     ]
    },
    {
     "name": "stderr",
     "output_type": "stream",
     "text": [
      "/anaconda3/lib/python3.7/site-packages/ipykernel_launcher.py:6: VisibleDeprecationWarning: Reading unicode strings without specifying the encoding argument is deprecated. Set the encoding, use None for the system default.\n",
      "  \n"
     ]
    },
    {
     "data": {
      "text/plain": [
       "array([b'Iris-setosa', b'Iris-setosa', b'Iris-setosa', b'Iris-setosa',\n",
       "       b'Iris-setosa'], dtype='|S18')"
      ]
     },
     "execution_count": 296,
     "metadata": {},
     "output_type": "execute_result"
    }
   ],
   "source": [
    "# câu 26 : Trích xuất một cột cụ thể từ mảng 1 chiều của kiểu dữ liệu tuples\n",
    "\n",
    "# Ví dụ : trích xuất cột văn bản species từ mảng iris 1D được nhập trong câu 25\n",
    "\n",
    "url = 'https://archive.ics.uci.edu/ml/machine-learning-databases/iris/iris.data'\n",
    "iris_1d = np.genfromtxt(url, delimiter=',',dtype=None)\n",
    "print(iris_1d.shape) # mảng 1 chiều với 150 dòng : (150,)\n",
    "print(iris_1d[:5])\n",
    "# Tạo mảng 1 chiều species trích xuất từ cột 4 của mỗi phần tử trong mảng iris_1d \n",
    "species = np.array([row[4] for row in iris_1d])\n",
    "species[:5]\n"
   ]
  },
  {
   "cell_type": "code",
   "execution_count": 329,
   "metadata": {},
   "outputs": [
    {
     "name": "stderr",
     "output_type": "stream",
     "text": [
      "/anaconda3/lib/python3.7/site-packages/ipykernel_launcher.py:4: VisibleDeprecationWarning: Reading unicode strings without specifying the encoding argument is deprecated. Set the encoding, use None for the system default.\n",
      "  after removing the cwd from sys.path.\n"
     ]
    },
    {
     "data": {
      "text/plain": [
       "array([[5.1, 3.5, 1.4, 0.2],\n",
       "       [4.9, 3. , 1.4, 0.2],\n",
       "       [4.7, 3.2, 1.3, 0.2],\n",
       "       [4.6, 3.1, 1.5, 0.2]])"
      ]
     },
     "execution_count": 329,
     "metadata": {},
     "output_type": "execute_result"
    }
   ],
   "source": [
    "# câu 27 : Biến đổi mảng 1 chiều thành mảng 2 chiều \n",
    "\n",
    "url = 'https://archive.ics.uci.edu/ml/machine-learning-databases/iris/iris.data'\n",
    "iris_1d = np.genfromtxt(url, delimiter=',', dtype=None)\n",
    "\n",
    "# Cách 1 : Biến đổi mỗi hàng thành list rồi lấy 4 phần tử đầu\n",
    "\n",
    "irsi_2d = np.array([row.tolist()[:4] for row in iris_1d])\n",
    "iris_2d[:4]\n",
    "\n",
    "# Cách 2 : trích xuất 4 cột đầu từ nguon URL\n",
    "iris_2d = np.genfromtxt(url,delimiter=',',dtype='float',usecols=[0,1,2,3])\n",
    "iris_2d[:4]\n"
   ]
  },
  {
   "cell_type": "code",
   "execution_count": 344,
   "metadata": {},
   "outputs": [
    {
     "name": "stdout",
     "output_type": "stream",
     "text": [
      "[5.1 4.9 4.7 4.6 5.  5.4 4.6 5.  4.4 4.9]\n",
      "5.843333333333334 5.8 0.8253012917851409\n"
     ]
    }
   ],
   "source": [
    "# câu 28 : Tính toán mean , median , standard deviation của 1 mảng :\n",
    "# Mean (số trung bình): Trung bình số học được tính đơn giản bằng tổng của tất cả các giá trị của dữ liệu trong mẫu chia cho kích thước mẫu.\n",
    "# Số trung vị (Median) là giá trị giữa trong một phân bố chia phân bố thành 2 nhóm mà trong đó số các số trong mỗi nhóm bằng nhau\n",
    "# Độ lệch chuẩn (Standard Deviation) : Độ lệch chuẩn mô tả biến thiên của các cá thể trong quần thể \n",
    "\n",
    "# Ví dụ : Tìm giá trị trung bình, trung vị, độ lệch chuẩn \n",
    "# của cột sepallength của tập dữ liệu iris (cột thứ 1)\n",
    "\n",
    "url = 'https://archive.ics.uci.edu/ml/machine-learning-databases/iris/iris.data'\n",
    "iris = np.genfromtxt(url, delimiter=',', dtype='object')\n",
    "# Trích xuất cột 1 từ IRIS thành mảng 1 chiều \n",
    "sepallength = np.genfromtxt(url,delimiter=',',dtype=float,usecols=[0])\n",
    "sepallength.shape\n",
    "print(sepallength[:10])\n",
    "\n",
    "# giá trị trung bình, trung vị, độ lệch chuẩn của sepallength\n",
    "mea , med , sd = np.mean(sepallength) , np.median(sepallength) , np.std(sepallength)\n",
    "\n",
    "print(mea,med,sd)"
   ]
  },
  {
   "cell_type": "code",
   "execution_count": 352,
   "metadata": {},
   "outputs": [
    {
     "data": {
      "text/plain": [
       "array([0.222222, 0.166667, 0.111111, 0.083333, 0.194444, 0.305556,\n",
       "       0.083333, 0.194444, 0.027778, 0.166667])"
      ]
     },
     "execution_count": 352,
     "metadata": {},
     "output_type": "execute_result"
    }
   ],
   "source": [
    "# câu 29 : Normalize một mảng để các giá trị nằm trong khoảng từ 0 đến 1\n",
    "\n",
    "# Ví dụ : Tạo một định dạng chuẩn hóa của cột sepallength iris có giá trị nằm trong khoảng từ 0 đến 1 \n",
    "# sao cho mức tối thiểu có giá trị 0 và tối đa có giá trị 1.\n",
    "\n",
    "url = 'https://archive.ics.uci.edu/ml/machine-learning-databases/iris/iris.data'\n",
    "sepallength = np.genfromtxt(url, delimiter=',', dtype='float', usecols=[0])\n",
    "\n",
    "# Cách 1 : Công thức chuẩn hoá 1 mảng có giá trị từ 0 -> 1\n",
    "# norm_array_a  = a(i) - min.a / ( max.a - min.a )\n",
    "norm_sepallength = (sepallength - sepallength.min()) / (sepallength.max() - sepallength.min())\n",
    "norm_sepallength\n",
    "\n",
    "# Cách 2 : dùng hàm ptp() lấy phạm vi giá trị tức ( max - min ) \n",
    "norm_sepallength2 = (sepallength - sepallength.min()) / sepallength.ptp()\n",
    "norm_sepallength2[:10]\n"
   ]
  },
  {
   "cell_type": "code",
   "execution_count": 363,
   "metadata": {
    "scrolled": true
   },
   "outputs": [
    {
     "name": "stdout",
     "output_type": "stream",
     "text": [
      "(150,)\n",
      "[0.002 0.002 0.001 0.001 0.002 0.003 0.001 0.002 0.001 0.002 0.003 0.002\n",
      " 0.002 0.001 0.004 0.004 0.003 0.002 0.004 0.002 0.003 0.002 0.001 0.002\n",
      " 0.002 0.002 0.002 0.002 0.002 0.001 0.002 0.003 0.002 0.003 0.002 0.002\n",
      " 0.003 0.002 0.001 0.002 0.002 0.001 0.001 0.002 0.002 0.002 0.002 0.001\n",
      " 0.003 0.002 0.015 0.008 0.013 0.003 0.009 0.004 0.007 0.002 0.01  0.002\n",
      " 0.002 0.005 0.005 0.006 0.004 0.011 0.004 0.004 0.007 0.004 0.005 0.006\n",
      " 0.007 0.006 0.008 0.01  0.012 0.011 0.005 0.004 0.003 0.003 0.004 0.005\n",
      " 0.003 0.005 0.011 0.007 0.004 0.003 0.003 0.006 0.004 0.002 0.004 0.004\n",
      " 0.004 0.007 0.002 0.004 0.007 0.004 0.016 0.007 0.009 0.027 0.002 0.02\n",
      " 0.011 0.018 0.009 0.008 0.012 0.004 0.004 0.008 0.009 0.03  0.03  0.005\n",
      " 0.013 0.004 0.03  0.007 0.011 0.018 0.007 0.006 0.008 0.018 0.022 0.037\n",
      " 0.008 0.007 0.006 0.03  0.007 0.008 0.005 0.013 0.011 0.013 0.004 0.012\n",
      " 0.011 0.011 0.007 0.009 0.007 0.005]\n"
     ]
    }
   ],
   "source": [
    "# câu 30 : Tính toán điểm softmax\n",
    "\n",
    "# Vi dụ : Tính toán điểm softmax của cột sepallength\n",
    "\n",
    "url = 'https://archive.ics.uci.edu/ml/machine-learning-databases/iris/iris.data'\n",
    "sepallength = np.genfromtxt(url, delimiter=',', dtype='float', usecols=[0])\n",
    "print(sepallength.shape)\n",
    "\n",
    "def softmax(x):\n",
    "    # tính giá trị softmax của từng tập điểm của x\n",
    "    e_x = np.exp(x - np.max(x))\n",
    "    return ( e_x / e_x.sum())\n",
    "\n",
    "# in chỉ 3 số lẻ\n",
    "np.set_printoptions(precision=3)\n",
    "\n",
    "print(softmax(sepallength))\n",
    "                 "
   ]
  },
  {
   "cell_type": "code",
   "execution_count": 378,
   "metadata": {},
   "outputs": [
    {
     "data": {
      "text/plain": [
       "array([4.6  , 7.255])"
      ]
     },
     "execution_count": 378,
     "metadata": {},
     "output_type": "execute_result"
    }
   ],
   "source": [
    "# câu 31 : Tìm percentile scores của mảng \n",
    "\n",
    "# Ví dụ : Tìm percentile thứ 5 và 95 của mảng iris cột sepallength\n",
    "url = 'https://archive.ics.uci.edu/ml/machine-learning-databases/iris/iris.data'\n",
    "sepallength = np.genfromtxt(url, delimiter=',', dtype='float', usecols=[0])\n",
    "\n",
    "np.percentile(sepallength,q=[5,95])\n"
   ]
  },
  {
   "cell_type": "code",
   "execution_count": 91,
   "metadata": {},
   "outputs": [
    {
     "name": "stdout",
     "output_type": "stream",
     "text": [
      "[[b'5.1' b'3.5' b'1.4' b'0.2' b'Iris-setosa']\n",
      " [b'4.9' b'3.0' b'1.4' b'0.2' b'Iris-setosa']\n",
      " [b'4.7' b'3.2' b'1.3' b'0.2' b'Iris-setosa']\n",
      " [b'4.6' b'3.1' b'1.5' b'0.2' b'Iris-setosa']\n",
      " [b'5.0' b'3.6' b'1.4' b'0.2' b'Iris-setosa']\n",
      " [b'5.4' b'3.9' b'1.7' b'0.4' b'Iris-setosa']\n",
      " [b'4.6' b'3.4' b'1.4' b'0.3' b'Iris-setosa']\n",
      " [b'5.0' b'3.4' b'1.5' b'0.2' b'Iris-setosa']\n",
      " [b'4.4' nan b'1.4' b'0.2' b'Iris-setosa']\n",
      " [b'4.9' b'3.1' b'1.5' b'0.1' b'Iris-setosa']]\n"
     ]
    }
   ],
   "source": [
    "import numpy as np\n",
    "\n",
    "# câu 32 : Chèn giá trị tại 1 vị trí ngẫu nhiên trong mảng\n",
    "\n",
    "# Ví dụ : Chèn giá trị np.nan ở 20 vị trí ngẫu nhiên trong tập dữ liệu iris_2d\n",
    "\n",
    "url = 'https://archive.ics.uci.edu/ml/machine-learning-databases/iris/iris.data'\n",
    "iris_2d = np.genfromtxt(url, delimiter=',', dtype='object')\n",
    "\n",
    "# Cách 1 : \n",
    "i,j = np.where(iris_2d) # lấy index của số hàng , số cột của 600 phần tử của mảng ( 150,5)\n",
    "np.random.seed(100)\n",
    "# np.random.choice : tạo 1 mẫu ngẫu nhiên từ mảng 1 chiều cho trước\n",
    "\n",
    "iris_2d[np.random.choice((i),20) , np.random.choice((j),20)] = np.nan\n",
    "\n",
    "# Cách 2 : \n",
    "np.random.seed(100)\n",
    "iris_2d[np.random.randint(150,size=20),np.random.randint(4,size=20)] = np.nan\n",
    "print(iris_2d[:10])\n",
    "\n"
   ]
  },
  {
   "cell_type": "code",
   "execution_count": 107,
   "metadata": {},
   "outputs": [
    {
     "name": "stdout",
     "output_type": "stream",
     "text": [
      "Số lượng các phần tử không có giá trị: \n",
      " 6\n",
      "Vị trí của các phần tử không có giá trị: \n",
      " (array([13, 36, 38, 61, 68, 93]),)\n"
     ]
    }
   ],
   "source": [
    "# câu 33 : Tìm vị trí của không có giá trị trong mảng numpy\n",
    "\n",
    "# Tìm số lượng và vị trí của các phần tử không có giá trị trong sepallength của iris_2d (cột thứ 1)\n",
    "\n",
    "url = 'https://archive.ics.uci.edu/ml/machine-learning-databases/iris/iris.data'\n",
    "iris_2d = np.genfromtxt(url, delimiter=',', dtype='float')\n",
    "iris_2d[np.random.randint(150, size=20), np.random.randint(4, size=20)] = np.nan\n",
    "# np.isnan(iris_2d[:, 0]) : tìm phần tử không có giá trị , 0 là cột 1 của mảng iris_2d \n",
    "print(\"Số lượng các phần tử không có giá trị: \\n\", np.isnan(iris_2d[:, 0]).sum())\n",
    "print(\"Vị trí của các phần tử không có giá trị: \\n\", np.where(np.isnan(iris_2d[:, 0])))\n"
   ]
  },
  {
   "cell_type": "code",
   "execution_count": 118,
   "metadata": {},
   "outputs": [
    {
     "data": {
      "text/plain": [
       "array([[4.8, 3.4, 1.6, 0.2],\n",
       "       [4.8, 3.4, 1.9, 0.2],\n",
       "       [4.7, 3.2, 1.6, 0.2],\n",
       "       [4.8, 3.1, 1.6, 0.2],\n",
       "       [4.9, 2.4, 3.3, 1. ],\n",
       "       [4.9, 2.5, 4.5, 1.7]])"
      ]
     },
     "execution_count": 118,
     "metadata": {},
     "output_type": "execute_result"
    }
   ],
   "source": [
    "# câu 34 : Lọc một mảng numpy dựa trên hai hoặc nhiều điều kiện\n",
    "\n",
    "# Ví dụ : Lọc các hàng iris_2d có petallength (cột thứ 3)> 1.5 và sepallength (cột thứ 1) <5.0\n",
    "\n",
    "url = 'https://archive.ics.uci.edu/ml/machine-learning-databases/iris/iris.data'\n",
    "iris_2d = np.genfromtxt(url, delimiter=',', dtype='float', usecols=[0,1,2,3])\n",
    "\n",
    "iris_2d[:5]\n",
    "condition = (iris_2d[:,2] > 1.5 ) & (iris_2d[:,0] < 5.0)\n",
    "iris_2d[condition]\n"
   ]
  },
  {
   "cell_type": "code",
   "execution_count": 135,
   "metadata": {},
   "outputs": [
    {
     "data": {
      "text/plain": [
       "array([[5.1, 3.5, 1.4, 0.2],\n",
       "       [4.9, 3. , 1.4, 0.2],\n",
       "       [4.7, 3.2, 1.3, 0.2],\n",
       "       [4.6, 3.1, 1.5, 0.2],\n",
       "       [5. , 3.6, 1.4, 0.2]])"
      ]
     },
     "execution_count": 135,
     "metadata": {},
     "output_type": "execute_result"
    }
   ],
   "source": [
    "# câu 35 : Loại các hàng có chứa một giá trị bị thiếu từ một mảng numpy\n",
    "\n",
    "# Ví dụ: chọn các hàng trong mảng iris_2d không có giá trị nan.\n",
    "url = 'https://archive.ics.uci.edu/ml/machine-learning-databases/iris/iris.data'\n",
    "iris_2d = np.genfromtxt(url, delimiter=',', dtype='float', usecols=[0,1,2,3])\n",
    "\n",
    "# Cách 1: tìm trên toàn mảng\n",
    "condition = np.all(np.isnan(iris_2d),axis = 1) # axis = 1 : trục hàng ngang \n",
    "iris_2d[~condition][:5] # kí hiệu ~ : nghĩa là lấy phủ định\n",
    "\n",
    "# Cách 2: tìm từng hàng trên mảng\n",
    "any_nan_in_row = np.array([np.any(np.isnan(row)) for row in iris_2d]) \n",
    "iris_2d[~any_nan_in_row][:5]\n",
    "\n"
   ]
  },
  {
   "cell_type": "code",
   "execution_count": 154,
   "metadata": {},
   "outputs": [
    {
     "data": {
      "text/plain": [
       "0.8717541573048712"
      ]
     },
     "execution_count": 154,
     "metadata": {},
     "output_type": "execute_result"
    }
   ],
   "source": [
    "# câu 36 : Tìm mối tương quan giữa hai cột của một mảng\n",
    "\n",
    "# Ví dụ : Tìm mối tương quan giữa SepalLength (cột thứ 1) và PetalLength (cột thứ 3)\n",
    "\n",
    "url = 'https://archive.ics.uci.edu/ml/machine-learning-databases/iris/iris.data'\n",
    "iris_2d = np.genfromtxt(url, delimiter=',', dtype='float', usecols=[0,1,2,3])\n",
    "\n",
    "#Cách 1 : dùng hàm corrcoef \n",
    "np.corrcoef(iris_2d[:,0],iris_2d[:,2])[0,1]\n",
    "\n",
    "#Cách 2: dùng hàm pearsonr\n",
    "from scipy.stats.stats import pearsonr \n",
    "pearsonr(iris_2d[:,0],iris_2d[:,2])[0]\n",
    "\n",
    "# corrcoef chỉ mức độ quan hệ tuyến tính giữa hai biến số, phạm vi từ -1 đến +1\n"
   ]
  },
  {
   "cell_type": "code",
   "execution_count": 165,
   "metadata": {},
   "outputs": [
    {
     "data": {
      "text/plain": [
       "False"
      ]
     },
     "execution_count": 165,
     "metadata": {},
     "output_type": "execute_result"
    }
   ],
   "source": [
    "# câu 37 : Tìm xem một mảng đã cho có chứa bất kỳ giá trị rỗng nào không\n",
    "\n",
    "# Ví dụ : \n",
    "\n",
    "url = 'https://archive.ics.uci.edu/ml/machine-learning-databases/iris/iris.data'\n",
    "iris_2d = np.genfromtxt(url, delimiter=',', dtype='float', usecols=[0,1,2,3])\n",
    "\n",
    "np.isnan(iris_2d).any()"
   ]
  },
  {
   "cell_type": "code",
   "execution_count": 179,
   "metadata": {},
   "outputs": [
    {
     "data": {
      "text/plain": [
       "array([[5.1, 3.5, 1.4, 0.2],\n",
       "       [4.9, 3. , 1.4, 0.2],\n",
       "       [4.7, 3.2, 1.3, 0.2],\n",
       "       [4.6, 3.1, 1.5, 0.2]])"
      ]
     },
     "execution_count": 179,
     "metadata": {},
     "output_type": "execute_result"
    }
   ],
   "source": [
    "# câu 38 : Thay thế tất cả các phần tử thiếu giá trị bằng 0 trong một mảng numpy\n",
    "\n",
    "# Ví dụ : Thay thế tất cả các phần tử chứa nan bằng 0 \n",
    "\n",
    "url = 'https://archive.ics.uci.edu/ml/machine-learning-databases/iris/iris.data'\n",
    "iris_2d = np.genfromtxt(url, delimiter=',', dtype='float', usecols=[0,1,2,3])\n",
    "iris_2d[np.random.randint(150, size=20), np.random.randint(4, size=20)] = np.nan\n",
    "\n",
    "iris_2d[np.isnan(iris_2d)] =0\n",
    "iris_2d[:4]"
   ]
  },
  {
   "cell_type": "code",
   "execution_count": 193,
   "metadata": {},
   "outputs": [
    {
     "data": {
      "text/plain": [
       "(array([b'Iris-setosa', b'Iris-versicolor', b'Iris-virginica'],\n",
       "       dtype='|S15'), array([50, 50, 50]))"
      ]
     },
     "execution_count": 193,
     "metadata": {},
     "output_type": "execute_result"
    }
   ],
   "source": [
    "# câu 39 : Tìm số lượng các giá trị duy nhất trong một mảng numpy\n",
    "\n",
    "# Ví dụ : Tìm các giá trị duy nhất và số lượng các giá trị duy nhất trong cột species\n",
    "\n",
    "url = 'https://archive.ics.uci.edu/ml/machine-learning-databases/iris/iris.data'\n",
    "iris = np.genfromtxt(url, delimiter=',', dtype='object')\n",
    "names = ('sepallength', 'sepalwidth', 'petallength', 'petalwidth', 'species')\n",
    "\n",
    "#Cách 1: dùng hàm unique\n",
    "np.unique(iris[:,4],return_counts=True)\n",
    "\n",
    "#Cách 2: rút trích 1 mảng species từ cột 4 của màng iris \n",
    "# và lấy giá trị duy nhất và đếm só lượng\n",
    "\n",
    "species = np.array([row.tolist()[4] for row in iris])\n",
    "\n",
    "np.unique(species,return_counts=True)"
   ]
  },
  {
   "cell_type": "code",
   "execution_count": 255,
   "metadata": {},
   "outputs": [
    {
     "data": {
      "text/plain": [
       "['small', 'small', 'small', 'small', 'small', 'small', 'small', 'small']"
      ]
     },
     "execution_count": 255,
     "metadata": {},
     "output_type": "execute_result"
    }
   ],
   "source": [
    "# câu 40 : Chuyển đổi số thành một mảng phân loại theo định dạng văn bản\n",
    "\n",
    "#Ví dụ :  Chuyển đổi cột 3 petallength thành mảng văn bản như sau : \n",
    "# Nhỏ3 hơn 3 --> 'small'\n",
    "# Từ 3->5    --> 'medium'\n",
    "# Lớn hơn 5  --> 'large'\n",
    "\n",
    "url = 'https://archive.ics.uci.edu/ml/machine-learning-databases/iris/iris.data'\n",
    "iris = np.genfromtxt(url, delimiter=',', dtype='object')\n",
    "names = ('sepallength', 'sepalwidth', 'petallength', 'petalwidth', 'species')\n",
    "\n",
    "# hàm np.digitize : trả về vị trí chỉ số của bin mà mỗi phần tử thuộc khoảng bin tương ứng\n",
    "bin_petallength = np.digitize(iris[:,2].astype(float),[0,3,5,10]) # chuyển đổi mảng sang mảng bin tương ứng với bảng định nghĩa chuyển đổi \n",
    "# ánh xạ bảng bin thành văn bản tương ứng\n",
    "label_map = {1:'small',2:'medium',3:'large',4:np.nan}\n",
    "             \n",
    "map_bin_petallength = [label_map[x] for x in bin_petallength ]\n",
    "\n",
    "map_bin_petallength[:8]"
   ]
  },
  {
   "cell_type": "code",
   "execution_count": 258,
   "metadata": {},
   "outputs": [
    {
     "data": {
      "text/plain": [
       "b'6.9'"
      ]
     },
     "execution_count": 258,
     "metadata": {},
     "output_type": "execute_result"
    }
   ],
   "source": [
    "np.max(iris[:,2])"
   ]
  },
  {
   "cell_type": "code",
   "execution_count": 308,
   "metadata": {},
   "outputs": [
    {
     "data": {
      "text/plain": [
       "array([[b'5.1', b'3.5', b'1.4', b'0.2', b'Iris-setosa',\n",
       "        38.13265162927291],\n",
       "       [b'4.9', b'3.0', b'1.4', b'0.2', b'Iris-setosa',\n",
       "        35.200498485922445],\n",
       "       [b'4.7', b'3.2', b'1.3', b'0.2', b'Iris-setosa', 30.0723720777127],\n",
       "       [b'4.6', b'3.1', b'1.5', b'0.2', b'Iris-setosa',\n",
       "        33.238050274980004],\n",
       "       [b'5.0', b'3.6', b'1.4', b'0.2', b'Iris-setosa',\n",
       "        36.65191429188092]], dtype=object)"
      ]
     },
     "execution_count": 308,
     "metadata": {},
     "output_type": "execute_result"
    }
   ],
   "source": [
    "# câu 41 : Tạo một cột mới từ các cột hiện có của một mảng\n",
    "\n",
    "#Ví dụ : Tạo một cột mới , \n",
    "# trong đó giá trị mỗi phần tử là (pi x petallength x sepal_length ^ 2) / 3\n",
    "\n",
    "\n",
    "url = 'https://archive.ics.uci.edu/ml/machine-learning-databases/iris/iris.data'\n",
    "iris_2d = np.genfromtxt(url, delimiter=',', dtype='object')\n",
    "\n",
    "names = ('sepallength', 'sepalwidth', 'petallength', 'petalwidth', 'species')\n",
    "\n",
    "# Rút trích cột petallength x sepal_length\n",
    "sepallength = iris_2d[:,0].astype('float')\n",
    "petallength = iris_2d[:,2].astype('float')\n",
    "\n",
    "new_col = (np.pi * petallength * (sepallength**2))/3\n",
    "# Định dạng cột mới cùng số chiều  với iris_2d\n",
    "new_col = new_col[:,np.newaxis]\n",
    "# Thêm cột mới vào iris_2d dùng hàm hstack\n",
    "result = np.hstack([iris_2d,new_col])\n",
    "result[:5]"
   ]
  },
  {
   "cell_type": "code",
   "execution_count": 380,
   "metadata": {},
   "outputs": [
    {
     "name": "stdout",
     "output_type": "stream",
     "text": [
      "(array([b'Iris-setosa', b'Iris-versicolor', b'Iris-virginica'],\n",
      "      dtype=object), array([77, 37, 36]))\n"
     ]
    }
   ],
   "source": [
    "# câu 42 : Lấy mẫu xác suất trong numpy\n",
    "\n",
    "# Lấy mẫu ngẫu nhiên cột species của mảng iris \n",
    "# sao cho trị setose gấp đôi số lượng của versicolor và virginica\n",
    "# np.unique(iris[:,4],return_counts=True)\n",
    "# Lấy cột species từ iris\n",
    "species = iris_2d[:,4]\n",
    "\n",
    "#Cách 1:  Tạo xác suất với Iris-setosa(50%),Iris-versicolor(25%),Iris-virginica(25%)\n",
    "# dùng hàm choice\n",
    "np.random.seed(100)\n",
    "a = np.array(['Iris-setosa', 'Iris-versicolor', 'Iris-virginica'])\n",
    "species_out = np.random.choice(a,150,p=[0.5,0.25,0.25])\n",
    "\n",
    "#Cách 2:  lấy mẫu xác suất \n",
    "np.random.seed(100)\n",
    "# Tạo 50 số  từ 0->0.5 , 50 số  từ 0.5->0.75 , 50 số  từ 0.75->1.0 thàng 1 mảng 150 số :\n",
    "probs = np.r_[np.linspace(0,0.500,num=50),np.linspace(0.501,0.750,num=50),np.linspace(0.751,1.0,num=50)]\n",
    "# Lấy ngẫu nhiên mảng gồm 150 chỉ số từ mảng xac suất probs gồm  \n",
    "index = np.searchsorted(probs,np.random.random(150))\n",
    "# Tạo mẫu cần tìm dược lấy từ mảng pecies với index sau khi searchsorted\n",
    "species_out = species[index]\n",
    "print(np.unique(species_out,return_counts=True))"
   ]
  },
  {
   "cell_type": "code",
   "execution_count": 401,
   "metadata": {},
   "outputs": [
    {
     "data": {
      "text/plain": [
       "b'1.7'"
      ]
     },
     "execution_count": 401,
     "metadata": {},
     "output_type": "execute_result"
    }
   ],
   "source": [
    "# câu 43 :  Tìm giá trị lớn thứ hai của một mảng khi được nhóm bởi một cột/mảng khác.\n",
    "\n",
    "#Ví dụ : Tìm giá trị lớn thứ hai của petallength của cột species được nhóm theo setosa\n",
    "\n",
    "\n",
    "url = 'https://archive.ics.uci.edu/ml/machine-learning-databases/iris/iris.data'\n",
    "iris = np.genfromtxt(url, delimiter=',', dtype='object')\n",
    "\n",
    "# Tạo mảng mới nhóm bởi giá trị setosa\n",
    "\n",
    "setosa = iris[iris[:, 4] == b'Iris-setosa']\n",
    "\n",
    "# Chỉ lấy cột 2 rồi chuyển thành kiểu float\n",
    "\n",
    "petal_len_setosa = setosa[:,2]\n",
    "\n",
    "# Lấy giá trị lớn thứ hai của mảng :\n",
    "\n",
    "np.unique(np.sort(petal_len_setosa))[-2]"
   ]
  },
  {
   "cell_type": "code",
   "execution_count": 404,
   "metadata": {},
   "outputs": [
    {
     "data": {
      "text/plain": [
       "array([[b'4.3', b'3.0', b'1.1', b'0.1', b'Iris-setosa'],\n",
       "       [b'4.4', b'3.2', b'1.3', b'0.2', b'Iris-setosa'],\n",
       "       [b'4.4', b'3.0', b'1.3', b'0.2', b'Iris-setosa'],\n",
       "       [b'4.4', b'2.9', b'1.4', b'0.2', b'Iris-setosa'],\n",
       "       [b'4.5', b'2.3', b'1.3', b'0.3', b'Iris-setosa'],\n",
       "       [b'4.6', b'3.6', b'1.0', b'0.2', b'Iris-setosa'],\n",
       "       [b'4.6', b'3.1', b'1.5', b'0.2', b'Iris-setosa'],\n",
       "       [b'4.6', b'3.4', b'1.4', b'0.3', b'Iris-setosa'],\n",
       "       [b'4.6', b'3.2', b'1.4', b'0.2', b'Iris-setosa'],\n",
       "       [b'4.7', b'3.2', b'1.3', b'0.2', b'Iris-setosa']], dtype=object)"
      ]
     },
     "execution_count": 404,
     "metadata": {},
     "output_type": "execute_result"
    }
   ],
   "source": [
    "# câu 44 : Sắp xếp một mảng 2D theo một cột\n",
    "\n",
    "# Ví dụ : Sắp xếp tập dữ liệu iris dựa trên cột sepallength \n",
    "\n",
    "url = 'https://archive.ics.uci.edu/ml/machine-learning-databases/iris/iris.data'\n",
    "iris = np.genfromtxt(url, delimiter=',', dtype='object')\n",
    "names = ('sepallength', 'sepalwidth', 'petallength', 'petalwidth', 'species')\n",
    "\n",
    "# Sắp xếp cột 0 (SepalLength) \n",
    "iris[iris[:,0].argsort()][:10]"
   ]
  },
  {
   "cell_type": "code",
   "execution_count": 416,
   "metadata": {},
   "outputs": [
    {
     "name": "stdout",
     "output_type": "stream",
     "text": [
      "b'1.5'\n"
     ]
    }
   ],
   "source": [
    "# câu 45 : Tìm giá trị xuất hiện nhiều nhất trong mảng\n",
    "\n",
    "# Ví dụ : Tìm giá trị thường xuyên nhất trong cột petallength (cột thứ 3) trong tập dữ liệu iris.\n",
    "# Lấy các phần tử duy nhất và số lượng mỗi phần tử\n",
    "values , counts = np.unique(iris[:,2],return_counts = True)\n",
    "\n",
    "# Dùng hàm np.argmax để tìm vi trí của phần tử xuát hiện nhiều nhất\n",
    "print(values[np.argmax(counts)])"
   ]
  },
  {
   "cell_type": "code",
   "execution_count": 441,
   "metadata": {},
   "outputs": [
    {
     "data": {
      "text/plain": [
       "array([50])"
      ]
     },
     "execution_count": 441,
     "metadata": {},
     "output_type": "execute_result"
    }
   ],
   "source": [
    "# câu 46 : Tìm vị trí xuất hiện đầu tiên của một giá trị lớn hơn một giá trị đã cho\n",
    "\n",
    "# Ví dụ : Tìm vị trí xuất hiện đầu tiên của một giá trị lớn hơn 1.0 trong cột thứ 4 (petalwidth)\n",
    "# của tập dữ liệu iris.\n",
    "\n",
    "url = 'https://archive.ics.uci.edu/ml/machine-learning-databases/iris/iris.data'\n",
    "iris = np.genfromtxt(url, delimiter=',', dtype='object')\n",
    "names = ('sepallength', 'sepalwidth', 'petallength', 'petalwidth', 'species')\n",
    "# Lấy cột thứ 4 petalwidth và định dạng kiểu float thoã lớn hơn 1 \n",
    "petalwidth = iris[:,3].astype('float') > 1\n",
    "# Hàm argwhere lấy index của mảng thoã điều kiên cho trước\n",
    "np.argwhere(petalwidth)[0]\n",
    "\n"
   ]
  },
  {
   "cell_type": "code",
   "execution_count": 451,
   "metadata": {},
   "outputs": [
    {
     "name": "stdout",
     "output_type": "stream",
     "text": [
      "[27.63 14.64 21.8  42.39  1.23  6.96 33.87 41.47  7.7  29.18 44.67 11.25\n",
      " 10.08  6.31 11.77 48.95 40.77  9.43 41.   14.43]\n",
      "[27.63 14.64 21.8  30.   10.   10.   30.   30.   10.   29.18 30.   11.25\n",
      " 10.08 10.   11.77 30.   30.   10.   30.   14.43]\n"
     ]
    }
   ],
   "source": [
    "# câu 47 : Thay thế tất cả các giá trị lớn hơn một giá trị cho trước thành một phạm vi cho trước\n",
    "\n",
    "# Ví dụ : Thay thế tất cả các giá trị lớn hơn 30 thành 30 và dưới 10 thành 10\n",
    "np.set_printoptions(precision=2)\n",
    "np.random.seed(100)\n",
    "a = np.random.uniform(1,50,20)\n",
    "print(a)\n",
    "\n",
    "# Cách 1 : dùng hàm np.clip sẽ thay thế giá trị nhỏ hơn min thành min\n",
    "# giá trị lớn hơn max thành max \n",
    "np.clip(a,a_min=10,a_max=30)\n",
    "\n",
    "# Cách 2 : dùng hàm np.where(condition, [x, y])\n",
    "print(np.where(a < 10, 10 , np.where(a > 30, 30,a)))\n"
   ]
  },
  {
   "cell_type": "code",
   "execution_count": 128,
   "metadata": {},
   "outputs": [
    {
     "name": "stdout",
     "output_type": "stream",
     "text": [
      "[27.62684215 14.64009987 21.80136195 42.39403048  1.23122395  6.95688692\n",
      " 33.86670515 41.466785    7.69862289 29.17957314 44.67477576 11.25090398\n",
      " 10.08108276  6.31046763 11.76517714 48.95256545 40.77247431  9.42510962\n",
      " 40.99501269 14.42961361]\n",
      "Vị trí :  [18  7  3 10 15]\n",
      "Giá trị :  [40.99501269 41.466785   42.39403048 44.67477576 48.95256545]\n",
      "Vị trí :  [18  7  3 10 15]\n",
      "Giá trị :  [40.99501269 41.466785   42.39403048 44.67477576 48.95256545]\n"
     ]
    }
   ],
   "source": [
    "# câu 48 : Lấy vị trí của n giá trị đứng đầu từ một mảng numpy\n",
    "\n",
    "# Ví dụ : Lấy vị trí của 5 giá trị lớn nhấttrong một mảng a\n",
    "\n",
    "np.random.seed(100)\n",
    "a = np.random.uniform(1,50, 20)\n",
    "print(a)\n",
    "\n",
    "# Cách 1 : dùng hàm np.argsort() xuất mảng index của các phần tử sau khi sắp xếp từ thấp lên cao\n",
    "# rồi lấy 5 vi trí cuối \n",
    "print('Vị trí : ',np.argsort(a)[-5:])\n",
    "print('Giá trị : ',a[np.argsort(a)[-5:]])\n",
    "\n",
    "# Cách 2 : dùng hàm sort() \n",
    "print('Vị trí : ',np.argpartition(a,-5)[-5:])\n",
    "print('Giá trị : ', a[np.argpartition(a,-5)[-5:]])\n",
    "\n",
    "\n"
   ]
  },
  {
   "cell_type": "code",
   "execution_count": 217,
   "metadata": {},
   "outputs": [
    {
     "name": "stdout",
     "output_type": "stream",
     "text": [
      "[[ 9  9  4  8  8  1  5  3  6  3]\n",
      " [ 3  3  2  1  9  5  1 10  7  3]\n",
      " [ 5  2  6  4  5  5  4  8  2  2]\n",
      " [ 8  8  1  3 10 10  4  3  6  9]\n",
      " [ 2  1  8  7  3  1  9  3  6  2]\n",
      " [ 9  2  6  5  3  9  4  6  1 10]]\n",
      "[ 1  2  3  4  5  6  7  8  9 10]\n",
      "[['b' 'i' 'l' 'l' ' ' 'c' 'l' 'i' 'n' 't' 'o' 'n']\n",
      " ['n' 'a' 'r' 'e' 'n' 'd' 'r' 'a' 'm' 'o' 'd' 'i']\n",
      " ['j' 'j' 'a' 'y' 'a' 'l' 'a' 'l' 'i' 't' 'h' 'a']]\n",
      "[' ' 'a' 'b' 'c' 'd' 'e' 'h' 'i' 'j' 'l' 'm' 'n' 'o' 'r' 't' 'y']\n"
     ]
    },
    {
     "data": {
      "text/plain": [
       "[[1, 0, 1, 1, 0, 0, 0, 2, 0, 3, 0, 2, 1, 0, 1, 0],\n",
       " [0, 2, 0, 0, 2, 1, 0, 1, 0, 0, 1, 2, 1, 2, 0, 0],\n",
       " [0, 4, 0, 0, 0, 0, 1, 1, 2, 2, 0, 0, 0, 0, 1, 1]]"
      ]
     },
     "execution_count": 217,
     "metadata": {},
     "output_type": "execute_result"
    }
   ],
   "source": [
    "# câu 49 : Tính tổng theo hàng của tất cả các giá trị xuất hiện có trong một mảng\n",
    "\n",
    "# Ví dụ : Tính tổng các giá trị duy nhất theo hàng.\n",
    "np.random.seed(100)\n",
    "arr = np.random.randint(1,11,size=(6, 10))\n",
    "print(arr)\n",
    "\n",
    "def counts_of_all_values_rowwise(arr2d):\n",
    "    # Tìm các già trị duy nhất và tổng từng giá trị theo hàng\n",
    "    num_counts_array = [np.unique(row, return_counts=True) for row in arr2d]\n",
    "\n",
    "    # Tính tổng tất cả giá trị theo hàng\n",
    "    return([[int(b[a==i]) if i in a else 0 for i in np.unique(arr2d)] for a, b in num_counts_array])\n",
    "\n",
    "print(np.arange(1,11))\n",
    "counts_of_all_values_rowwise(arr)\n",
    "\n",
    "# Ví dụ 2 : \n",
    "arr = np.array([np.array(list('bill clinton')), np.array(list('narendramodi')), np.array(list('jjayalalitha'))])\n",
    "print(arr)\n",
    "print(np.unique(arr))\n",
    "counts_of_all_values_rowwise(arr)\n"
   ]
  },
  {
   "cell_type": "code",
   "execution_count": null,
   "metadata": {},
   "outputs": [],
   "source": []
  },
  {
   "cell_type": "code",
   "execution_count": null,
   "metadata": {},
   "outputs": [],
   "source": []
  },
  {
   "cell_type": "code",
   "execution_count": null,
   "metadata": {},
   "outputs": [],
   "source": []
  },
  {
   "cell_type": "code",
   "execution_count": null,
   "metadata": {},
   "outputs": [],
   "source": []
  },
  {
   "cell_type": "code",
   "execution_count": null,
   "metadata": {},
   "outputs": [],
   "source": []
  },
  {
   "cell_type": "code",
   "execution_count": null,
   "metadata": {},
   "outputs": [],
   "source": []
  },
  {
   "cell_type": "code",
   "execution_count": null,
   "metadata": {},
   "outputs": [],
   "source": []
  },
  {
   "cell_type": "code",
   "execution_count": null,
   "metadata": {},
   "outputs": [],
   "source": []
  },
  {
   "cell_type": "code",
   "execution_count": null,
   "metadata": {},
   "outputs": [],
   "source": []
  },
  {
   "cell_type": "code",
   "execution_count": null,
   "metadata": {},
   "outputs": [],
   "source": []
  },
  {
   "cell_type": "code",
   "execution_count": null,
   "metadata": {},
   "outputs": [],
   "source": []
  },
  {
   "cell_type": "code",
   "execution_count": null,
   "metadata": {},
   "outputs": [],
   "source": []
  },
  {
   "cell_type": "code",
   "execution_count": null,
   "metadata": {},
   "outputs": [],
   "source": []
  },
  {
   "cell_type": "code",
   "execution_count": null,
   "metadata": {},
   "outputs": [],
   "source": []
  },
  {
   "cell_type": "code",
   "execution_count": null,
   "metadata": {},
   "outputs": [],
   "source": []
  },
  {
   "cell_type": "code",
   "execution_count": null,
   "metadata": {},
   "outputs": [],
   "source": []
  },
  {
   "cell_type": "code",
   "execution_count": null,
   "metadata": {},
   "outputs": [],
   "source": []
  },
  {
   "cell_type": "code",
   "execution_count": null,
   "metadata": {},
   "outputs": [],
   "source": []
  },
  {
   "cell_type": "code",
   "execution_count": null,
   "metadata": {},
   "outputs": [],
   "source": []
  },
  {
   "cell_type": "code",
   "execution_count": null,
   "metadata": {},
   "outputs": [],
   "source": []
  },
  {
   "cell_type": "code",
   "execution_count": null,
   "metadata": {},
   "outputs": [],
   "source": []
  },
  {
   "cell_type": "code",
   "execution_count": null,
   "metadata": {},
   "outputs": [],
   "source": []
  },
  {
   "cell_type": "code",
   "execution_count": null,
   "metadata": {},
   "outputs": [],
   "source": []
  },
  {
   "cell_type": "code",
   "execution_count": null,
   "metadata": {},
   "outputs": [],
   "source": []
  },
  {
   "cell_type": "code",
   "execution_count": null,
   "metadata": {},
   "outputs": [],
   "source": []
  },
  {
   "cell_type": "code",
   "execution_count": null,
   "metadata": {},
   "outputs": [],
   "source": []
  },
  {
   "cell_type": "code",
   "execution_count": null,
   "metadata": {},
   "outputs": [],
   "source": []
  },
  {
   "cell_type": "code",
   "execution_count": null,
   "metadata": {},
   "outputs": [],
   "source": []
  }
 ],
 "metadata": {
  "kernelspec": {
   "display_name": "Python 3",
   "language": "python",
   "name": "python3"
  },
  "language_info": {
   "codemirror_mode": {
    "name": "ipython",
    "version": 3
   },
   "file_extension": ".py",
   "mimetype": "text/x-python",
   "name": "python",
   "nbconvert_exporter": "python",
   "pygments_lexer": "ipython3",
   "version": "3.7.3"
  }
 },
 "nbformat": 4,
 "nbformat_minor": 2
}
